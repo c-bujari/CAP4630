{
  "nbformat": 4,
  "nbformat_minor": 0,
  "metadata": {
    "colab": {
      "name": "HW_4_Problem_2.ipynb",
      "provenance": [],
      "collapsed_sections": [],
      "authorship_tag": "ABX9TyPXXpB8lQf9/XTxt1Bk8gT0",
      "include_colab_link": true
    },
    "kernelspec": {
      "name": "python3",
      "display_name": "Python 3"
    }
  },
  "cells": [
    {
      "cell_type": "markdown",
      "metadata": {
        "id": "view-in-github",
        "colab_type": "text"
      },
      "source": [
        "<a href=\"https://colab.research.google.com/github/c-bujari/CAP4630/blob/master/HW_4/HW_4_Problem_2.ipynb\" target=\"_parent\"><img src=\"https://colab.research.google.com/assets/colab-badge.svg\" alt=\"Open In Colab\"/></a>"
      ]
    },
    {
      "cell_type": "markdown",
      "metadata": {
        "id": "gNnL-eKsgtEs",
        "colab_type": "text"
      },
      "source": [
        "# Homework 4 - Problem 2\n",
        "###CAP 4630 Artificial Intelligience\n",
        "####Clyde Bujari"
      ]
    },
    {
      "cell_type": "markdown",
      "metadata": {
        "id": "OAZ5UrBAg5Uk",
        "colab_type": "text"
      },
      "source": [
        "## Problem 2\n",
        "Given an input matrix and a window size, perform maxpooling on the input matrix.\n",
        "\n",
        "Size of window s * s cannot be greater than the dimensions of the input matrix. \n",
        "\n",
        "If an input matrix's dimensions cannot be evenly divided by s, an element (whole row or column) is removed until it does (valid padding)."
      ]
    },
    {
      "cell_type": "code",
      "metadata": {
        "id": "2F95vd_zg49I",
        "colab_type": "code",
        "colab": {}
      },
      "source": [
        "import numpy as np\n",
        "\n",
        "def maxpooling2d(input_mat, s):\n",
        "  # EXCEPTION HANDLING\n",
        "  ## Invalid input_mat type\n",
        "  if(input_mat is None):\n",
        "    raise Exception(\"Input matrix cannot be None.\")\n",
        "\n",
        "  if(input_mat.size == 0):\n",
        "    raise Exception(\"Cannot perform maxpooling on an empty input matrix.\")\n",
        "  ## s = 0\n",
        "  if(s is None or type(s) is not int):\n",
        "    raise Exception(\"Second argument is None or not an integer\")\n",
        "\n",
        "  ## If the stride/window is larger than the input matrix, throw exception\n",
        "  if((s*s) > input_mat.shape[0] * input_mat.shape[1]):\n",
        "    raise Exception(\"Maxpooling window must fit within input matrix.\")\n",
        "\n",
        "  ## Valid padding compliance:\n",
        "  ## If rows > rows/s, drop final row\n",
        "  while(input_mat.shape[0] % s != 0):\n",
        "    input_mat = np.delete(input_mat, input_mat.shape[0] - 1, 0)  \n",
        "  ## If cols > cols/s, drop final col\n",
        "  while(input_mat.shape[1] % s != 0):\n",
        "    input_mat = np.delete(input_mat, input_mat.shape[1] - 1, 1) \n",
        "\n",
        "  ## Set up output np array\n",
        "  output_shape = (input_mat.shape[0] // s, input_mat.shape[1] // s)\n",
        "  output_mat = np.zeros(output_shape)\n",
        "\n",
        "  ## Perform maxpooling\n",
        "  row = 0\n",
        "  for r in np.arange(0, input_mat.shape[0], s):\n",
        "    col = 0\n",
        "    for c in np.arange(0, input_mat.shape[1], s):\n",
        "      output_mat[row, col] = np.max([input_mat[r:r+s, c:c+s]])\n",
        "      col += 1\n",
        "    row += 1\n",
        "  return output_mat"
      ],
      "execution_count": 0,
      "outputs": []
    },
    {
      "cell_type": "markdown",
      "metadata": {
        "id": "fcnnQcGYO3ud",
        "colab_type": "text"
      },
      "source": [
        "## Resources used:\n",
        "\n",
        "https://ml-cheatsheet.readthedocs.io/en/latest/layers.html#pooling\n",
        "\n",
        "[Test cases given to us](https://colab.research.google.com/drive/1MIoNq4_xglLesBF1kdWJelP2CmdPuYbv)\n"
      ]
    }
  ]
}