{
  "nbformat": 4,
  "nbformat_minor": 0,
  "metadata": {
    "colab": {
      "name": "HW_4_Problem_3b.ipynb",
      "provenance": [],
      "collapsed_sections": [],
      "authorship_tag": "ABX9TyPn51XRO3zHgUgYOTeL+PpD",
      "include_colab_link": true
    },
    "kernelspec": {
      "name": "python3",
      "display_name": "Python 3"
    },
    "accelerator": "GPU"
  },
  "cells": [
    {
      "cell_type": "markdown",
      "metadata": {
        "id": "view-in-github",
        "colab_type": "text"
      },
      "source": [
        "<a href=\"https://colab.research.google.com/github/c-bujari/CAP4630/blob/master/HW_4/HW_4_Problem_3b.ipynb\" target=\"_parent\"><img src=\"https://colab.research.google.com/assets/colab-badge.svg\" alt=\"Open In Colab\"/></a>"
      ]
    },
    {
      "cell_type": "markdown",
      "metadata": {
        "id": "buiQSok796Yw",
        "colab_type": "text"
      },
      "source": [
        "# Homework 4 - Problem 3b\n",
        "###CAP 4630 Artificial Intelligience\n",
        "####Clyde Bujari"
      ]
    },
    {
      "cell_type": "markdown",
      "metadata": {
        "id": "d0I4BcdoE2lz",
        "colab_type": "text"
      },
      "source": [
        "The following code is directly pulled from [the professor's example model](https://colab.research.google.com/drive/1F-RWvoxH8MmT7c1UmNy41iuOp-ejiLoF#scrollTo=Fh6gZSeAjF7c) as we were instructed. The convolutional base model is left the same as in my first notebook for this problem, but the classifier is changed."
      ]
    },
    {
      "cell_type": "markdown",
      "metadata": {
        "id": "OExPn8SHGDNH",
        "colab_type": "text"
      },
      "source": [
        "## Downloading and Preparing the Data"
      ]
    },
    {
      "cell_type": "markdown",
      "metadata": {
        "id": "RWuO61N9Fpy6",
        "colab_type": "text"
      },
      "source": [
        "Download and extract the example data, a zip of 2000 JPG pictures of cats and dogs."
      ]
    },
    {
      "cell_type": "code",
      "metadata": {
        "id": "JyAeFocO91Y_",
        "colab_type": "code",
        "outputId": "47ca60f5-0e5d-4d46-92a8-53ed02e82d45",
        "colab": {
          "base_uri": "https://localhost:8080/",
          "height": 219
        }
      },
      "source": [
        "!wget --no-check-certificate \\\n",
        "    https://storage.googleapis.com/mledu-datasets/cats_and_dogs_filtered.zip \\\n",
        "    -O /tmp/cats_and_dogs_filtered.zip"
      ],
      "execution_count": 2,
      "outputs": [
        {
          "output_type": "stream",
          "text": [
            "--2020-04-21 14:04:16--  https://storage.googleapis.com/mledu-datasets/cats_and_dogs_filtered.zip\n",
            "Resolving storage.googleapis.com (storage.googleapis.com)... 74.125.24.128, 2404:6800:4003:c06::80\n",
            "Connecting to storage.googleapis.com (storage.googleapis.com)|74.125.24.128|:443... connected.\n",
            "HTTP request sent, awaiting response... 200 OK\n",
            "Length: 68606236 (65M) [application/zip]\n",
            "Saving to: ‘/tmp/cats_and_dogs_filtered.zip’\n",
            "\n",
            "/tmp/cats_and_dogs_ 100%[===================>]  65.43M  83.4MB/s    in 0.8s    \n",
            "\n",
            "2020-04-21 14:04:17 (83.4 MB/s) - ‘/tmp/cats_and_dogs_filtered.zip’ saved [68606236/68606236]\n",
            "\n"
          ],
          "name": "stdout"
        }
      ]
    },
    {
      "cell_type": "code",
      "metadata": {
        "id": "a1JkbtKJFWAY",
        "colab_type": "code",
        "colab": {}
      },
      "source": [
        "import os\n",
        "import zipfile\n",
        "\n",
        "local_zip = '/tmp/cats_and_dogs_filtered.zip'\n",
        "zip_ref = zipfile.ZipFile(local_zip, 'r')\n",
        "zip_ref.extractall('/tmp')\n",
        "zip_ref.close()"
      ],
      "execution_count": 0,
      "outputs": []
    },
    {
      "cell_type": "markdown",
      "metadata": {
        "id": "XpeMMCCwFZCu",
        "colab_type": "text"
      },
      "source": [
        "Note: Google did not provide a test set in this data set."
      ]
    },
    {
      "cell_type": "code",
      "metadata": {
        "id": "DaOxZqrkFTvD",
        "colab_type": "code",
        "colab": {}
      },
      "source": [
        "base_dir = '/tmp/cats_and_dogs_filtered'\n",
        "train_dir = os.path.join(base_dir, 'train')\n",
        "validation_dir = os.path.join(base_dir, 'validation')\n",
        "\n",
        "# Directory with our training cat pictures\n",
        "train_cats_dir = os.path.join(train_dir, 'cats')\n",
        "\n",
        "# Directory with our training dog pictures\n",
        "train_dogs_dir = os.path.join(train_dir, 'dogs')\n",
        "\n",
        "# Directory with our validation cat pictures\n",
        "validation_cats_dir = os.path.join(validation_dir, 'cats')\n",
        "\n",
        "# Directory with our validation dog pictures\n",
        "validation_dogs_dir = os.path.join(validation_dir, 'dogs')"
      ],
      "execution_count": 0,
      "outputs": []
    },
    {
      "cell_type": "markdown",
      "metadata": {
        "id": "zzt5v-RlF1Tb",
        "colab_type": "text"
      },
      "source": [
        "## Build network with pre-trained convolution base and custom densely connected layers\n",
        "Using: ResNet50v2\n",
        "\n",
        "For reasoning, see my Problem 3a.\n"
      ]
    },
    {
      "cell_type": "markdown",
      "metadata": {
        "id": "IkTqUzMRF-Ix",
        "colab_type": "text"
      },
      "source": [
        "### Load and freeze the convolutional base"
      ]
    },
    {
      "cell_type": "code",
      "metadata": {
        "id": "opRGhT6QF8yn",
        "colab_type": "code",
        "outputId": "975ab6f9-c575-4d42-f685-3321c8e33732",
        "colab": {
          "base_uri": "https://localhost:8080/",
          "height": 92
        }
      },
      "source": [
        "from keras.applications import VGG16\n",
        "from keras.applications import ResNet50V2\n",
        "\n",
        "conv_base = ResNet50V2(\n",
        "    weights='imagenet',\n",
        "    include_top=False,\n",
        "    input_shape=(150, 150, 3))"
      ],
      "execution_count": 5,
      "outputs": [
        {
          "output_type": "stream",
          "text": [
            "Using TensorFlow backend.\n"
          ],
          "name": "stderr"
        },
        {
          "output_type": "stream",
          "text": [
            "Downloading data from https://github.com/keras-team/keras-applications/releases/download/resnet/resnet50v2_weights_tf_dim_ordering_tf_kernels_notop.h5\n",
            "94674944/94668760 [==============================] - 9s 0us/step\n"
          ],
          "name": "stdout"
        }
      ]
    },
    {
      "cell_type": "code",
      "metadata": {
        "id": "2J5wvSO8GRoK",
        "colab_type": "code",
        "colab": {}
      },
      "source": [
        "conv_base.trainable = False"
      ],
      "execution_count": 0,
      "outputs": []
    },
    {
      "cell_type": "markdown",
      "metadata": {
        "id": "1OF8FSgHGbai",
        "colab_type": "text"
      },
      "source": [
        "### Concatenate the convolutional base and densely connected layers"
      ]
    },
    {
      "cell_type": "markdown",
      "metadata": {
        "id": "4h0szFSUsSjd",
        "colab_type": "text"
      },
      "source": [
        "## Build network with pre-trained convolution base and custom densely connected layers\n",
        "\n",
        "In this second notebook, I have added a 128-node fully connected layer after the 256-node one also present in my first notebook. \n",
        "\n",
        "I have also added a MaxPooling2D layer after the convolutional base, which should help alleviate any overfitting present even more \n",
        "\n",
        "(I am not sure if maxpooling can be considered part of the classifier? [This image from the slides](https://github.com/schneider128k/machine_learning_course/blob/master/slides/images/cnn_architecture.png) shows maxpooling layers as part of the Conv. modules, but in this case it is only being used to augment the data prior to processing the fully connected layers)"
      ]
    },
    {
      "cell_type": "code",
      "metadata": {
        "id": "xWUlFfEEH1t0",
        "colab_type": "code",
        "colab": {}
      },
      "source": [
        "from keras import layers\n",
        "from keras import models\n",
        "from keras import optimizers\n",
        "\n",
        "model = models.Sequential()\n",
        "model.add(conv_base)\n",
        "model.add(layers.MaxPooling2D(2, 2))\n",
        "model.add(layers.Flatten())\n",
        "model.add(layers.Dense(256, activation='relu'))\n",
        "model.add(layers.Dense(128, activation='relu'))\n",
        "model.add(layers.Dense(1, activation='sigmoid'))"
      ],
      "execution_count": 0,
      "outputs": []
    },
    {
      "cell_type": "code",
      "metadata": {
        "id": "rHK16QDPH2td",
        "colab_type": "code",
        "outputId": "7814f921-4281-4932-8969-5021bc42eed4",
        "colab": {
          "base_uri": "https://localhost:8080/",
          "height": 384
        }
      },
      "source": [
        "model.summary()"
      ],
      "execution_count": 8,
      "outputs": [
        {
          "output_type": "stream",
          "text": [
            "Model: \"sequential_1\"\n",
            "_________________________________________________________________\n",
            "Layer (type)                 Output Shape              Param #   \n",
            "=================================================================\n",
            "resnet50v2 (Model)           (None, 5, 5, 2048)        23564800  \n",
            "_________________________________________________________________\n",
            "max_pooling2d_4 (MaxPooling2 (None, 2, 2, 2048)        0         \n",
            "_________________________________________________________________\n",
            "flatten_1 (Flatten)          (None, 8192)              0         \n",
            "_________________________________________________________________\n",
            "dense_1 (Dense)              (None, 256)               2097408   \n",
            "_________________________________________________________________\n",
            "dense_2 (Dense)              (None, 128)               32896     \n",
            "_________________________________________________________________\n",
            "dense_3 (Dense)              (None, 1)                 129       \n",
            "=================================================================\n",
            "Total params: 25,695,233\n",
            "Trainable params: 2,130,433\n",
            "Non-trainable params: 23,564,800\n",
            "_________________________________________________________________\n"
          ],
          "name": "stdout"
        }
      ]
    },
    {
      "cell_type": "markdown",
      "metadata": {
        "id": "IQo1j_KUH5FI",
        "colab_type": "text"
      },
      "source": [
        "## Train the model end to end with frozen convolutional base"
      ]
    },
    {
      "cell_type": "code",
      "metadata": {
        "id": "GLJA2v7TH57N",
        "colab_type": "code",
        "outputId": "453b3c5b-0585-4355-cbdc-476ecb95dc92",
        "colab": {
          "base_uri": "https://localhost:8080/",
          "height": 1000
        }
      },
      "source": [
        "from keras.preprocessing.image import ImageDataGenerator\n",
        "from keras import optimizers\n",
        "\n",
        "# data augmentation\n",
        "\n",
        "train_datagen = ImageDataGenerator(\n",
        "    rescale=1./255, \n",
        "    rotation_range=40,\n",
        "    width_shift_range=0.2,\n",
        "    height_shift_range=0.2,\n",
        "    shear_range=0.2,\n",
        "    zoom_range=0.2,\n",
        "    horizontal_flip=True,\n",
        "    fill_mode='nearest'\n",
        ")\n",
        "\n",
        "train_generator = train_datagen.flow_from_directory(\n",
        "    train_dir,\n",
        "    target_size=(150, 150),\n",
        "    batch_size=20,\n",
        "    class_mode='binary')\n",
        "\n",
        "validation_datagen = ImageDataGenerator(rescale=1./255)\n",
        "\n",
        "validation_generator = validation_datagen.flow_from_directory(\n",
        "    validation_dir,\n",
        "    target_size=(150, 150),\n",
        "    batch_size=20,\n",
        "    class_mode='binary')\n",
        "\n",
        "# compile model\n",
        "\n",
        "model.compile(\n",
        "    loss='binary_crossentropy', \n",
        "    optimizer=optimizers.RMSprop(lr=2e-5), \n",
        "    metrics=['acc'])\n",
        "\n",
        "# train\n",
        "\n",
        "history = model.fit_generator(\n",
        "    train_generator,\n",
        "    steps_per_epoch=100,\n",
        "    epochs=30,\n",
        "    validation_data=validation_generator,\n",
        "    validation_steps=50\n",
        ")"
      ],
      "execution_count": 9,
      "outputs": [
        {
          "output_type": "stream",
          "text": [
            "Found 2000 images belonging to 2 classes.\n",
            "Found 1000 images belonging to 2 classes.\n",
            "Epoch 1/30\n",
            "100/100 [==============================] - 28s 280ms/step - loss: 0.6506 - acc: 0.6755 - val_loss: 0.2397 - val_acc: 0.8980\n",
            "Epoch 2/30\n",
            "100/100 [==============================] - 18s 176ms/step - loss: 0.4652 - acc: 0.7770 - val_loss: 0.4866 - val_acc: 0.9170\n",
            "Epoch 3/30\n",
            "100/100 [==============================] - 18s 177ms/step - loss: 0.4363 - acc: 0.7985 - val_loss: 0.2466 - val_acc: 0.9340\n",
            "Epoch 4/30\n",
            "100/100 [==============================] - 17s 174ms/step - loss: 0.3970 - acc: 0.8175 - val_loss: 0.6606 - val_acc: 0.9330\n",
            "Epoch 5/30\n",
            "100/100 [==============================] - 17s 175ms/step - loss: 0.3918 - acc: 0.8180 - val_loss: 0.2706 - val_acc: 0.9290\n",
            "Epoch 6/30\n",
            "100/100 [==============================] - 17s 174ms/step - loss: 0.3637 - acc: 0.8375 - val_loss: 0.2518 - val_acc: 0.9460\n",
            "Epoch 7/30\n",
            "100/100 [==============================] - 18s 176ms/step - loss: 0.3466 - acc: 0.8390 - val_loss: 0.0440 - val_acc: 0.9460\n",
            "Epoch 8/30\n",
            "100/100 [==============================] - 18s 178ms/step - loss: 0.3383 - acc: 0.8550 - val_loss: 0.0104 - val_acc: 0.9430\n",
            "Epoch 9/30\n",
            "100/100 [==============================] - 18s 177ms/step - loss: 0.3688 - acc: 0.8405 - val_loss: 0.8961 - val_acc: 0.9400\n",
            "Epoch 10/30\n",
            "100/100 [==============================] - 17s 175ms/step - loss: 0.3224 - acc: 0.8475 - val_loss: 0.0177 - val_acc: 0.9420\n",
            "Epoch 11/30\n",
            "100/100 [==============================] - 17s 175ms/step - loss: 0.3329 - acc: 0.8490 - val_loss: 0.2062 - val_acc: 0.9460\n",
            "Epoch 12/30\n",
            "100/100 [==============================] - 18s 178ms/step - loss: 0.3317 - acc: 0.8465 - val_loss: 5.4328e-04 - val_acc: 0.9490\n",
            "Epoch 13/30\n",
            "100/100 [==============================] - 18s 176ms/step - loss: 0.3064 - acc: 0.8720 - val_loss: 0.0333 - val_acc: 0.9450\n",
            "Epoch 14/30\n",
            "100/100 [==============================] - 18s 176ms/step - loss: 0.3102 - acc: 0.8655 - val_loss: 1.2484 - val_acc: 0.9490\n",
            "Epoch 15/30\n",
            "100/100 [==============================] - 18s 177ms/step - loss: 0.3164 - acc: 0.8565 - val_loss: 0.2486 - val_acc: 0.9510\n",
            "Epoch 16/30\n",
            "100/100 [==============================] - 18s 178ms/step - loss: 0.3132 - acc: 0.8710 - val_loss: 0.0014 - val_acc: 0.9460\n",
            "Epoch 17/30\n",
            "100/100 [==============================] - 18s 179ms/step - loss: 0.3105 - acc: 0.8685 - val_loss: 0.1261 - val_acc: 0.9530\n",
            "Epoch 18/30\n",
            "100/100 [==============================] - 18s 180ms/step - loss: 0.2977 - acc: 0.8665 - val_loss: 0.6159 - val_acc: 0.9530\n",
            "Epoch 19/30\n",
            "100/100 [==============================] - 18s 175ms/step - loss: 0.3130 - acc: 0.8625 - val_loss: 0.3688 - val_acc: 0.9530\n",
            "Epoch 20/30\n",
            "100/100 [==============================] - 17s 174ms/step - loss: 0.2932 - acc: 0.8775 - val_loss: 0.1317 - val_acc: 0.9520\n",
            "Epoch 21/30\n",
            "100/100 [==============================] - 17s 174ms/step - loss: 0.2993 - acc: 0.8635 - val_loss: 0.1223 - val_acc: 0.9500\n",
            "Epoch 22/30\n",
            "100/100 [==============================] - 18s 177ms/step - loss: 0.2886 - acc: 0.8775 - val_loss: 0.0137 - val_acc: 0.9530\n",
            "Epoch 23/30\n",
            "100/100 [==============================] - 17s 172ms/step - loss: 0.2734 - acc: 0.8850 - val_loss: 0.0190 - val_acc: 0.9500\n",
            "Epoch 24/30\n",
            "100/100 [==============================] - 17s 172ms/step - loss: 0.2916 - acc: 0.8835 - val_loss: 0.2290 - val_acc: 0.9560\n",
            "Epoch 25/30\n",
            "100/100 [==============================] - 17s 173ms/step - loss: 0.2877 - acc: 0.8825 - val_loss: 4.2555e-05 - val_acc: 0.9540\n",
            "Epoch 26/30\n",
            "100/100 [==============================] - 18s 175ms/step - loss: 0.2536 - acc: 0.8910 - val_loss: 0.0263 - val_acc: 0.9560\n",
            "Epoch 27/30\n",
            "100/100 [==============================] - 17s 173ms/step - loss: 0.2888 - acc: 0.8745 - val_loss: 3.9182e-05 - val_acc: 0.9510\n",
            "Epoch 28/30\n",
            "100/100 [==============================] - 17s 172ms/step - loss: 0.2725 - acc: 0.8795 - val_loss: 0.2757 - val_acc: 0.9500\n",
            "Epoch 29/30\n",
            "100/100 [==============================] - 17s 174ms/step - loss: 0.2741 - acc: 0.8760 - val_loss: 0.0429 - val_acc: 0.9530\n",
            "Epoch 30/30\n",
            "100/100 [==============================] - 17s 173ms/step - loss: 0.2676 - acc: 0.8830 - val_loss: 2.7944e-04 - val_acc: 0.9520\n"
          ],
          "name": "stdout"
        }
      ]
    },
    {
      "cell_type": "markdown",
      "metadata": {
        "id": "YCRi6DJkH98l",
        "colab_type": "text"
      },
      "source": [
        "## Display curves of loss and accuracy during training"
      ]
    },
    {
      "cell_type": "code",
      "metadata": {
        "id": "Kbrnx108IAlj",
        "colab_type": "code",
        "outputId": "fd6e3b75-59f3-4067-fb1e-412094c68ece",
        "colab": {
          "base_uri": "https://localhost:8080/",
          "height": 545
        }
      },
      "source": [
        "%matplotlib inline\n",
        "\n",
        "import matplotlib.pyplot as plt\n",
        "\n",
        "acc = history.history['acc']\n",
        "val_acc = history.history['val_acc']\n",
        "\n",
        "loss = history.history['loss']\n",
        "val_loss = history.history['val_loss']\n",
        "\n",
        "epochs = range(1, len(acc) + 1)\n",
        "\n",
        "# training and validation accuracy\n",
        "\n",
        "plt.plot(epochs, acc, 'bo', label='training acc')\n",
        "plt.plot(epochs, val_acc, 'b', label='validation acc')\n",
        "plt.title('training and validation accuracy')\n",
        "plt.legend()\n",
        "\n",
        "plt.figure()\n",
        "\n",
        "# training and validation loss\n",
        "\n",
        "plt.plot(epochs, loss, 'bo', label='training loss')\n",
        "plt.plot(epochs, val_loss, 'b', label='validation loss')\n",
        "plt.title('training and validation loss')\n",
        "plt.legend()\n",
        "\n",
        "plt.show()"
      ],
      "execution_count": 10,
      "outputs": [
        {
          "output_type": "display_data",
          "data": {
            "image/png": "[encoded data removed]",
            "text/plain": [
              "<Figure size 432x288 with 1 Axes>"
            ]
          },
          "metadata": {
            "tags": [],
            "needs_background": "light"
          }
        },
        {
          "output_type": "display_data",
          "data": {
            "image/png": "[encoded data removed]",
            "text/plain": [
              "<Figure size 432x288 with 1 Axes>"
            ]
          },
          "metadata": {
            "tags": [],
            "needs_background": "light"
          }
        }
      ]
    },
    {
      "cell_type": "markdown",
      "metadata": {
        "id": "DpRXHihfIDxv",
        "colab_type": "text"
      },
      "source": [
        "## Fine-tuning"
      ]
    },
    {
      "cell_type": "markdown",
      "metadata": {
        "id": "OyMQbNxgPMKO",
        "colab_type": "text"
      },
      "source": [
        "Unfreezing the conv base - in my case this process appears to be the same as for VGG16"
      ]
    },
    {
      "cell_type": "code",
      "metadata": {
        "id": "TZZKM81NIEo9",
        "colab_type": "code",
        "colab": {}
      },
      "source": [
        "conv_base.trainable = True\n",
        "\n",
        "set_trainable = False\n",
        "for layer in conv_base.layers:\n",
        "  if layer.name == 'block5_conv1':\n",
        "    set_trainable = True\n",
        "  if set_trainable:\n",
        "    layer.trainable = True\n",
        "  else:\n",
        "    layer.trainable = False"
      ],
      "execution_count": 0,
      "outputs": []
    },
    {
      "cell_type": "code",
      "metadata": {
        "id": "XnwP7s2mIGBs",
        "colab_type": "code",
        "outputId": "188cac90-ebe3-47a3-b10f-38ab9ee9dd04",
        "colab": {
          "base_uri": "https://localhost:8080/",
          "height": 1000
        }
      },
      "source": [
        "# compile model\n",
        "\n",
        "model.compile(\n",
        "    loss='binary_crossentropy',\n",
        "    #\n",
        "    # choose a smaller learning rate\n",
        "    #\n",
        "    optimizer=optimizers.RMSprop(lr=1e-5), \n",
        "    metrics=['acc'])\n",
        "\n",
        "# train\n",
        "\n",
        "history = model.fit_generator(\n",
        "    train_generator,\n",
        "    steps_per_epoch=100,\n",
        "    epochs=100,\n",
        "    validation_data=validation_generator,\n",
        "    validation_steps=50)"
      ],
      "execution_count": 12,
      "outputs": [
        {
          "output_type": "stream",
          "text": [
            "Epoch 1/100\n",
            "100/100 [==============================] - 21s 213ms/step - loss: 0.2711 - acc: 0.8810 - val_loss: 0.2582 - val_acc: 0.9290\n",
            "Epoch 2/100\n",
            "100/100 [==============================] - 18s 176ms/step - loss: 0.2489 - acc: 0.8885 - val_loss: 0.1629 - val_acc: 0.9160\n",
            "Epoch 3/100\n",
            "100/100 [==============================] - 18s 176ms/step - loss: 0.2506 - acc: 0.8845 - val_loss: 0.0965 - val_acc: 0.9230\n",
            "Epoch 4/100\n",
            "100/100 [==============================] - 18s 177ms/step - loss: 0.2398 - acc: 0.8930 - val_loss: 0.4680 - val_acc: 0.9310\n",
            "Epoch 5/100\n",
            "100/100 [==============================] - 18s 180ms/step - loss: 0.2428 - acc: 0.8930 - val_loss: 0.0768 - val_acc: 0.9230\n",
            "Epoch 6/100\n",
            "100/100 [==============================] - 18s 177ms/step - loss: 0.2439 - acc: 0.8990 - val_loss: 0.0263 - val_acc: 0.9170\n",
            "Epoch 7/100\n",
            "100/100 [==============================] - 18s 177ms/step - loss: 0.2381 - acc: 0.8990 - val_loss: 0.2526 - val_acc: 0.9130\n",
            "Epoch 8/100\n",
            "100/100 [==============================] - 18s 177ms/step - loss: 0.2493 - acc: 0.8870 - val_loss: 0.0295 - val_acc: 0.9200\n",
            "Epoch 9/100\n",
            "100/100 [==============================] - 18s 182ms/step - loss: 0.2644 - acc: 0.8870 - val_loss: 0.0613 - val_acc: 0.9190\n",
            "Epoch 10/100\n",
            "100/100 [==============================] - 18s 179ms/step - loss: 0.2467 - acc: 0.8960 - val_loss: 0.1732 - val_acc: 0.9110\n",
            "Epoch 11/100\n",
            "100/100 [==============================] - 18s 181ms/step - loss: 0.2523 - acc: 0.8950 - val_loss: 0.0463 - val_acc: 0.9160\n",
            "Epoch 12/100\n",
            "100/100 [==============================] - 18s 177ms/step - loss: 0.2440 - acc: 0.8965 - val_loss: 0.0267 - val_acc: 0.9160\n",
            "Epoch 13/100\n",
            "100/100 [==============================] - 18s 179ms/step - loss: 0.2516 - acc: 0.9040 - val_loss: 0.0643 - val_acc: 0.9130\n",
            "Epoch 14/100\n",
            "100/100 [==============================] - 18s 180ms/step - loss: 0.2321 - acc: 0.9065 - val_loss: 0.0286 - val_acc: 0.9130\n",
            "Epoch 15/100\n",
            "100/100 [==============================] - 18s 178ms/step - loss: 0.2198 - acc: 0.9065 - val_loss: 0.1294 - val_acc: 0.9120\n",
            "Epoch 16/100\n",
            "100/100 [==============================] - 18s 180ms/step - loss: 0.2546 - acc: 0.8935 - val_loss: 0.1823 - val_acc: 0.9150\n",
            "Epoch 17/100\n",
            "100/100 [==============================] - 18s 178ms/step - loss: 0.2447 - acc: 0.8960 - val_loss: 0.1652 - val_acc: 0.9200\n",
            "Epoch 18/100\n",
            "100/100 [==============================] - 18s 179ms/step - loss: 0.2680 - acc: 0.8865 - val_loss: 0.1490 - val_acc: 0.9190\n",
            "Epoch 19/100\n",
            "100/100 [==============================] - 18s 181ms/step - loss: 0.2364 - acc: 0.9030 - val_loss: 0.4555 - val_acc: 0.9170\n",
            "Epoch 20/100\n",
            "100/100 [==============================] - 18s 178ms/step - loss: 0.2445 - acc: 0.8965 - val_loss: 0.3040 - val_acc: 0.9200\n",
            "Epoch 21/100\n",
            "100/100 [==============================] - 18s 179ms/step - loss: 0.2443 - acc: 0.9025 - val_loss: 0.1481 - val_acc: 0.9190\n",
            "Epoch 22/100\n",
            "100/100 [==============================] - 18s 180ms/step - loss: 0.2618 - acc: 0.8955 - val_loss: 0.1914 - val_acc: 0.9180\n",
            "Epoch 23/100\n",
            "100/100 [==============================] - 18s 182ms/step - loss: 0.2417 - acc: 0.9045 - val_loss: 0.0122 - val_acc: 0.9190\n",
            "Epoch 24/100\n",
            "100/100 [==============================] - 18s 179ms/step - loss: 0.2451 - acc: 0.9025 - val_loss: 0.0993 - val_acc: 0.9230\n",
            "Epoch 25/100\n",
            "100/100 [==============================] - 18s 181ms/step - loss: 0.2490 - acc: 0.8975 - val_loss: 0.1319 - val_acc: 0.9250\n",
            "Epoch 26/100\n",
            "100/100 [==============================] - 18s 180ms/step - loss: 0.2441 - acc: 0.8980 - val_loss: 0.2860 - val_acc: 0.9260\n",
            "Epoch 27/100\n",
            "100/100 [==============================] - 18s 180ms/step - loss: 0.2436 - acc: 0.8965 - val_loss: 0.1822 - val_acc: 0.9270\n",
            "Epoch 28/100\n",
            "100/100 [==============================] - 18s 180ms/step - loss: 0.2437 - acc: 0.8995 - val_loss: 0.2763 - val_acc: 0.9240\n",
            "Epoch 29/100\n",
            "100/100 [==============================] - 18s 180ms/step - loss: 0.2118 - acc: 0.9105 - val_loss: 0.0817 - val_acc: 0.9220\n",
            "Epoch 30/100\n",
            "100/100 [==============================] - 18s 182ms/step - loss: 0.2484 - acc: 0.8995 - val_loss: 0.0160 - val_acc: 0.9230\n",
            "Epoch 31/100\n",
            "100/100 [==============================] - 18s 181ms/step - loss: 0.2156 - acc: 0.9065 - val_loss: 0.1476 - val_acc: 0.9270\n",
            "Epoch 32/100\n",
            "100/100 [==============================] - 18s 183ms/step - loss: 0.2508 - acc: 0.8970 - val_loss: 0.0146 - val_acc: 0.9280\n",
            "Epoch 33/100\n",
            "100/100 [==============================] - 18s 180ms/step - loss: 0.2429 - acc: 0.8990 - val_loss: 0.3138 - val_acc: 0.9260\n",
            "Epoch 34/100\n",
            "100/100 [==============================] - 18s 181ms/step - loss: 0.2101 - acc: 0.9070 - val_loss: 0.4027 - val_acc: 0.9260\n",
            "Epoch 35/100\n",
            "100/100 [==============================] - 18s 180ms/step - loss: 0.2357 - acc: 0.9000 - val_loss: 0.0888 - val_acc: 0.9210\n",
            "Epoch 36/100\n",
            "100/100 [==============================] - 18s 181ms/step - loss: 0.2058 - acc: 0.9155 - val_loss: 0.1085 - val_acc: 0.9240\n",
            "Epoch 37/100\n",
            "100/100 [==============================] - 18s 180ms/step - loss: 0.2245 - acc: 0.9100 - val_loss: 0.0992 - val_acc: 0.9200\n",
            "Epoch 38/100\n",
            "100/100 [==============================] - 18s 180ms/step - loss: 0.2518 - acc: 0.8960 - val_loss: 0.1518 - val_acc: 0.9280\n",
            "Epoch 39/100\n",
            "100/100 [==============================] - 18s 178ms/step - loss: 0.2096 - acc: 0.9135 - val_loss: 0.6953 - val_acc: 0.9280\n",
            "Epoch 40/100\n",
            "100/100 [==============================] - 18s 182ms/step - loss: 0.2232 - acc: 0.9000 - val_loss: 0.0659 - val_acc: 0.9260\n",
            "Epoch 41/100\n",
            "100/100 [==============================] - 18s 180ms/step - loss: 0.2237 - acc: 0.9125 - val_loss: 0.1281 - val_acc: 0.9270\n",
            "Epoch 42/100\n",
            "100/100 [==============================] - 18s 181ms/step - loss: 0.2448 - acc: 0.8995 - val_loss: 0.0884 - val_acc: 0.9230\n",
            "Epoch 43/100\n",
            "100/100 [==============================] - 18s 178ms/step - loss: 0.2407 - acc: 0.8925 - val_loss: 0.0948 - val_acc: 0.9210\n",
            "Epoch 44/100\n",
            "100/100 [==============================] - 18s 178ms/step - loss: 0.2415 - acc: 0.8980 - val_loss: 0.3532 - val_acc: 0.9280\n",
            "Epoch 45/100\n",
            "100/100 [==============================] - 18s 177ms/step - loss: 0.2122 - acc: 0.9165 - val_loss: 0.0504 - val_acc: 0.9210\n",
            "Epoch 46/100\n",
            "100/100 [==============================] - 18s 175ms/step - loss: 0.2245 - acc: 0.9060 - val_loss: 0.0931 - val_acc: 0.9240\n",
            "Epoch 47/100\n",
            "100/100 [==============================] - 18s 177ms/step - loss: 0.2161 - acc: 0.9090 - val_loss: 0.0825 - val_acc: 0.9290\n",
            "Epoch 48/100\n",
            "100/100 [==============================] - 18s 176ms/step - loss: 0.2421 - acc: 0.8955 - val_loss: 0.1491 - val_acc: 0.9200\n",
            "Epoch 49/100\n",
            "100/100 [==============================] - 18s 177ms/step - loss: 0.2226 - acc: 0.9045 - val_loss: 0.2588 - val_acc: 0.9280\n",
            "Epoch 50/100\n",
            "100/100 [==============================] - 18s 178ms/step - loss: 0.2227 - acc: 0.9070 - val_loss: 0.3223 - val_acc: 0.9210\n",
            "Epoch 51/100\n",
            "100/100 [==============================] - 18s 178ms/step - loss: 0.2191 - acc: 0.9095 - val_loss: 0.3156 - val_acc: 0.9270\n",
            "Epoch 52/100\n",
            "100/100 [==============================] - 18s 178ms/step - loss: 0.2093 - acc: 0.9075 - val_loss: 0.2037 - val_acc: 0.9220\n",
            "Epoch 53/100\n",
            "100/100 [==============================] - 18s 176ms/step - loss: 0.2117 - acc: 0.9080 - val_loss: 0.4227 - val_acc: 0.9240\n",
            "Epoch 54/100\n",
            "100/100 [==============================] - 18s 179ms/step - loss: 0.2336 - acc: 0.9005 - val_loss: 0.2376 - val_acc: 0.9270\n",
            "Epoch 55/100\n",
            "100/100 [==============================] - 18s 178ms/step - loss: 0.2223 - acc: 0.9135 - val_loss: 0.1951 - val_acc: 0.9200\n",
            "Epoch 56/100\n",
            "100/100 [==============================] - 18s 177ms/step - loss: 0.2115 - acc: 0.9130 - val_loss: 0.1700 - val_acc: 0.9250\n",
            "Epoch 57/100\n",
            "100/100 [==============================] - 18s 181ms/step - loss: 0.2074 - acc: 0.9175 - val_loss: 0.3000 - val_acc: 0.9250\n",
            "Epoch 58/100\n",
            "100/100 [==============================] - 18s 177ms/step - loss: 0.2264 - acc: 0.9130 - val_loss: 0.0495 - val_acc: 0.9230\n",
            "Epoch 59/100\n",
            "100/100 [==============================] - 18s 178ms/step - loss: 0.2438 - acc: 0.8995 - val_loss: 0.0565 - val_acc: 0.9210\n",
            "Epoch 60/100\n",
            "100/100 [==============================] - 18s 176ms/step - loss: 0.2117 - acc: 0.9135 - val_loss: 0.0589 - val_acc: 0.9290\n",
            "Epoch 61/100\n",
            "100/100 [==============================] - 18s 178ms/step - loss: 0.2113 - acc: 0.9105 - val_loss: 0.2659 - val_acc: 0.9290\n",
            "Epoch 62/100\n",
            "100/100 [==============================] - 18s 178ms/step - loss: 0.2399 - acc: 0.8975 - val_loss: 0.1477 - val_acc: 0.9290\n",
            "Epoch 63/100\n",
            "100/100 [==============================] - 18s 181ms/step - loss: 0.2138 - acc: 0.9210 - val_loss: 0.6579 - val_acc: 0.9270\n",
            "Epoch 64/100\n",
            "100/100 [==============================] - 18s 179ms/step - loss: 0.2074 - acc: 0.9115 - val_loss: 0.8056 - val_acc: 0.9280\n",
            "Epoch 65/100\n",
            "100/100 [==============================] - 18s 178ms/step - loss: 0.2111 - acc: 0.9135 - val_loss: 0.1167 - val_acc: 0.9280\n",
            "Epoch 66/100\n",
            "100/100 [==============================] - 18s 177ms/step - loss: 0.2170 - acc: 0.9145 - val_loss: 0.1071 - val_acc: 0.9250\n",
            "Epoch 67/100\n",
            "100/100 [==============================] - 18s 178ms/step - loss: 0.2158 - acc: 0.9075 - val_loss: 0.3353 - val_acc: 0.9240\n",
            "Epoch 68/100\n",
            "100/100 [==============================] - 18s 179ms/step - loss: 0.2094 - acc: 0.9185 - val_loss: 0.1493 - val_acc: 0.9300\n",
            "Epoch 69/100\n",
            "100/100 [==============================] - 18s 180ms/step - loss: 0.2122 - acc: 0.9065 - val_loss: 0.4482 - val_acc: 0.9250\n",
            "Epoch 70/100\n",
            "100/100 [==============================] - 18s 181ms/step - loss: 0.2115 - acc: 0.9180 - val_loss: 0.5492 - val_acc: 0.9260\n",
            "Epoch 71/100\n",
            "100/100 [==============================] - 18s 178ms/step - loss: 0.2272 - acc: 0.9135 - val_loss: 0.0884 - val_acc: 0.9310\n",
            "Epoch 72/100\n",
            "100/100 [==============================] - 18s 179ms/step - loss: 0.2133 - acc: 0.9125 - val_loss: 0.1893 - val_acc: 0.9230\n",
            "Epoch 73/100\n",
            "100/100 [==============================] - 18s 178ms/step - loss: 0.1887 - acc: 0.9205 - val_loss: 0.0634 - val_acc: 0.9280\n",
            "Epoch 74/100\n",
            "100/100 [==============================] - 18s 180ms/step - loss: 0.2053 - acc: 0.9180 - val_loss: 0.3461 - val_acc: 0.9220\n",
            "Epoch 75/100\n",
            "100/100 [==============================] - 18s 181ms/step - loss: 0.2102 - acc: 0.9145 - val_loss: 0.2557 - val_acc: 0.9260\n",
            "Epoch 76/100\n",
            "100/100 [==============================] - 18s 179ms/step - loss: 0.2017 - acc: 0.9145 - val_loss: 0.1734 - val_acc: 0.9350\n",
            "Epoch 77/100\n",
            "100/100 [==============================] - 18s 181ms/step - loss: 0.2261 - acc: 0.9065 - val_loss: 0.2068 - val_acc: 0.9200\n",
            "Epoch 78/100\n",
            "100/100 [==============================] - 18s 178ms/step - loss: 0.2009 - acc: 0.9210 - val_loss: 0.1449 - val_acc: 0.9270\n",
            "Epoch 79/100\n",
            "100/100 [==============================] - 18s 178ms/step - loss: 0.2126 - acc: 0.9150 - val_loss: 0.1521 - val_acc: 0.9300\n",
            "Epoch 80/100\n",
            "100/100 [==============================] - 18s 180ms/step - loss: 0.1894 - acc: 0.9160 - val_loss: 0.2624 - val_acc: 0.9330\n",
            "Epoch 81/100\n",
            "100/100 [==============================] - 18s 183ms/step - loss: 0.2043 - acc: 0.9120 - val_loss: 0.3194 - val_acc: 0.9360\n",
            "Epoch 82/100\n",
            "100/100 [==============================] - 18s 178ms/step - loss: 0.1942 - acc: 0.9185 - val_loss: 0.1274 - val_acc: 0.9320\n",
            "Epoch 83/100\n",
            "100/100 [==============================] - 18s 180ms/step - loss: 0.1852 - acc: 0.9195 - val_loss: 0.6247 - val_acc: 0.9340\n",
            "Epoch 84/100\n",
            "100/100 [==============================] - 18s 179ms/step - loss: 0.1924 - acc: 0.9135 - val_loss: 0.0955 - val_acc: 0.9260\n",
            "Epoch 85/100\n",
            "100/100 [==============================] - 18s 180ms/step - loss: 0.2309 - acc: 0.9025 - val_loss: 0.1938 - val_acc: 0.9280\n",
            "Epoch 86/100\n",
            "100/100 [==============================] - 18s 182ms/step - loss: 0.1745 - acc: 0.9295 - val_loss: 0.0148 - val_acc: 0.9290\n",
            "Epoch 87/100\n",
            "100/100 [==============================] - 18s 179ms/step - loss: 0.2062 - acc: 0.9125 - val_loss: 0.0622 - val_acc: 0.9240\n",
            "Epoch 88/100\n",
            "100/100 [==============================] - 18s 179ms/step - loss: 0.1801 - acc: 0.9215 - val_loss: 0.2493 - val_acc: 0.9290\n",
            "Epoch 89/100\n",
            "100/100 [==============================] - 18s 179ms/step - loss: 0.2228 - acc: 0.9105 - val_loss: 0.4428 - val_acc: 0.9260\n",
            "Epoch 90/100\n",
            "100/100 [==============================] - 18s 181ms/step - loss: 0.2071 - acc: 0.9140 - val_loss: 0.1589 - val_acc: 0.9310\n",
            "Epoch 91/100\n",
            "100/100 [==============================] - 18s 181ms/step - loss: 0.2166 - acc: 0.9140 - val_loss: 0.1332 - val_acc: 0.9290\n",
            "Epoch 92/100\n",
            "100/100 [==============================] - 18s 182ms/step - loss: 0.1851 - acc: 0.9245 - val_loss: 0.1213 - val_acc: 0.9290\n",
            "Epoch 93/100\n",
            "100/100 [==============================] - 18s 178ms/step - loss: 0.2160 - acc: 0.9075 - val_loss: 0.0503 - val_acc: 0.9270\n",
            "Epoch 94/100\n",
            "100/100 [==============================] - 18s 177ms/step - loss: 0.2179 - acc: 0.9100 - val_loss: 0.2132 - val_acc: 0.9240\n",
            "Epoch 95/100\n",
            "100/100 [==============================] - 18s 180ms/step - loss: 0.2001 - acc: 0.9180 - val_loss: 0.1687 - val_acc: 0.9290\n",
            "Epoch 96/100\n",
            "100/100 [==============================] - 18s 179ms/step - loss: 0.1905 - acc: 0.9235 - val_loss: 0.1934 - val_acc: 0.9260\n",
            "Epoch 97/100\n",
            "100/100 [==============================] - 18s 178ms/step - loss: 0.1945 - acc: 0.9265 - val_loss: 0.0878 - val_acc: 0.9310\n",
            "Epoch 98/100\n",
            "100/100 [==============================] - 18s 180ms/step - loss: 0.1882 - acc: 0.9180 - val_loss: 0.1611 - val_acc: 0.9270\n",
            "Epoch 99/100\n",
            "100/100 [==============================] - 18s 180ms/step - loss: 0.1809 - acc: 0.9220 - val_loss: 0.0528 - val_acc: 0.9270\n",
            "Epoch 100/100\n",
            "100/100 [==============================] - 18s 178ms/step - loss: 0.2054 - acc: 0.9185 - val_loss: 0.1332 - val_acc: 0.9260\n"
          ],
          "name": "stdout"
        }
      ]
    },
    {
      "cell_type": "markdown",
      "metadata": {
        "id": "DaRD5bchIK2a",
        "colab_type": "text"
      },
      "source": [
        "## Display learning curves during fine-tuning"
      ]
    },
    {
      "cell_type": "code",
      "metadata": {
        "id": "xbvyuAUlIJzI",
        "colab_type": "code",
        "colab": {
          "base_uri": "https://localhost:8080/",
          "height": 545
        },
        "outputId": "c1ccc56b-3945-4f83-e2d1-1be3a9f9ffa3"
      },
      "source": [
        "%matplotlib inline\n",
        "\n",
        "import matplotlib.pyplot as plt\n",
        "\n",
        "acc = history.history['acc']\n",
        "val_acc = history.history['val_acc']\n",
        "\n",
        "loss = history.history['loss']\n",
        "val_loss = history.history['val_loss']\n",
        "\n",
        "epochs = range(1, len(acc) + 1)\n",
        "\n",
        "# training and validation accuracy\n",
        "\n",
        "plt.plot(epochs, acc, 'bo', label='training acc')\n",
        "plt.plot(epochs, val_acc, 'b', label='validation acc')\n",
        "plt.title('training and validation accuracy')\n",
        "plt.legend()\n",
        "\n",
        "plt.figure()\n",
        "\n",
        "# training and validation loss\n",
        "\n",
        "plt.plot(epochs, loss, 'bo', label='training loss')\n",
        "plt.plot(epochs, val_loss, 'b', label='validation loss')\n",
        "plt.title('training and validation loss')\n",
        "plt.legend()\n",
        "\n",
        "plt.show()"
      ],
      "execution_count": 13,
      "outputs": [
        {
          "output_type": "display_data",
          "data": {
            "image/png": "[encoded data removed]",
            "text/plain": [
              "<Figure size 432x288 with 1 Axes>"
            ]
          },
          "metadata": {
            "tags": [],
            "needs_background": "light"
          }
        },
        {
          "output_type": "display_data",
          "data": {
            "image/png": "[encoded data removed]",
            "text/plain": [
              "<Figure size 432x288 with 1 Axes>"
            ]
          },
          "metadata": {
            "tags": [],
            "needs_background": "light"
          }
        }
      ]
    },
    {
      "cell_type": "markdown",
      "metadata": {
        "id": "gjGTvruUIO5W",
        "colab_type": "text"
      },
      "source": [
        "This classifier's results are very different from the previous 256-node one. \n",
        "\n",
        "Adding MaxPool2d before flattening and a 128 node classifier has worsened training accuracy/loss very slightly (at a visual glance, about 0.03 lower accuracy and 0.1 higher loss).\n",
        "\n",
        "The validation accuracy has also decreased. However, the extremely high variability I saw in the 256-node classifier is much improved (the largest spikes of 1.4 and 1.2 are now down to 0.8 and 0.7, respectively). \n",
        "\n",
        "Furthermore, the accuracy graph shows that the model is even freer of overfitting than the 256-node one. The validation accuracy is very similar to the 256-node, and the validation loss has been more than halved. Overall, adding MaxPool2d and an additional 128-node classifier layer appears to be a huge improvement over the 256-node classifier!"
      ]
    },
    {
      "cell_type": "markdown",
      "metadata": {
        "id": "oQRtItCkIR1J",
        "colab_type": "text"
      },
      "source": [
        "## Print out validation loss and accuracy"
      ]
    },
    {
      "cell_type": "code",
      "metadata": {
        "id": "ZFhDw2VhITYp",
        "colab_type": "code",
        "colab": {}
      },
      "source": [
        "val_loss, val_acc = model.evaluate_generator(validation_generator, steps=50)"
      ],
      "execution_count": 0,
      "outputs": []
    },
    {
      "cell_type": "code",
      "metadata": {
        "id": "0QQNLc1gIUiD",
        "colab_type": "code",
        "colab": {
          "base_uri": "https://localhost:8080/",
          "height": 54
        },
        "outputId": "31a9fa50-8fba-4dcb-f49a-e85c444c2357"
      },
      "source": [
        "print(\"Validation loss:\", val_loss)\n",
        "print(\"Validation accuracy:\", val_acc)"
      ],
      "execution_count": 15,
      "outputs": [
        {
          "output_type": "stream",
          "text": [
            "Validation loss: 0.08125607669353485\n",
            "Validation accuracy: 0.9259999990463257\n"
          ],
          "name": "stdout"
        }
      ]
    },
    {
      "cell_type": "markdown",
      "metadata": {
        "id": "dEOyXr1qIVwF",
        "colab_type": "text"
      },
      "source": [
        "## Save the model"
      ]
    },
    {
      "cell_type": "code",
      "metadata": {
        "id": "onzASfN3Ie5L",
        "colab_type": "code",
        "colab": {}
      },
      "source": [
        "model_fname = 'cats_and_dogs_small_4.h5' \n",
        "model.save(model_fname)"
      ],
      "execution_count": 0,
      "outputs": []
    },
    {
      "cell_type": "markdown",
      "metadata": {
        "id": "2XSNdy7rS5Ub",
        "colab_type": "text"
      },
      "source": [
        "The following block of code throws an exception for me despite being exactly copied from the code given to us - I am disregarding this as it does not affect the actual model, and the file can still be manually downloaded through the sidebar at the right."
      ]
    },
    {
      "cell_type": "code",
      "metadata": {
        "id": "EzhnZZtJIfst",
        "colab_type": "code",
        "colab": {}
      },
      "source": [
        "# from google.colab import files\n",
        "\n",
        "# with open(model_fname, 'r') as f:\n",
        "#   files.download(model_fname)"
      ],
      "execution_count": 0,
      "outputs": []
    },
    {
      "cell_type": "markdown",
      "metadata": {
        "id": "aN_oHhFXSvzO",
        "colab_type": "text"
      },
      "source": [
        "Sources used:\n",
        "\n",
        "\n",
        "*   https://github.com/schneider128k/machine_learning_course/blob/master/slides/images/cnn_architecture.png\n",
        "*   https://colab.research.google.com/drive/1F-RWvoxH8MmT7c1UmNy41iuOp-ejiLoF#scrollTo=Fh6gZSeAjF7c\n",
        "*   https://keras.io/applications/\n",
        "*   https://towardsdatascience.com/an-overview-of-resnet-and-its-variants-5281e2f56035\n",
        "\n"
      ]
    }
  ]
}