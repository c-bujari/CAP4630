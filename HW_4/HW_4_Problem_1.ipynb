{
  "nbformat": 4,
  "nbformat_minor": 0,
  "metadata": {
    "colab": {
      "name": "HW_4_Problem_1.ipynb",
      "provenance": [],
      "collapsed_sections": [],
      "authorship_tag": "ABX9TyO7wI0CDocvzHDPTYW1cfQ1",
      "include_colab_link": true
    },
    "kernelspec": {
      "name": "python3",
      "display_name": "Python 3"
    }
  },
  "cells": [
    {
      "cell_type": "markdown",
      "metadata": {
        "id": "view-in-github",
        "colab_type": "text"
      },
      "source": [
        "<a href=\"https://colab.research.google.com/github/c-bujari/CAP4630/blob/master/HW_4/HW_4_Problem_1.ipynb\" target=\"_parent\"><img src=\"https://colab.research.google.com/assets/colab-badge.svg\" alt=\"Open In Colab\"/></a>"
      ]
    },
    {
      "cell_type": "markdown",
      "metadata": {
        "id": "qSsjHD9CMGQ0",
        "colab_type": "text"
      },
      "source": [
        "# Homework 4 - Problem 1\n",
        "###CAP 4630 Artificial Intelligience\n",
        "####Clyde Bujari"
      ]
    },
    {
      "cell_type": "markdown",
      "metadata": {
        "id": "oi7CEC4TMEax",
        "colab_type": "text"
      },
      "source": [
        "## Problem 1\n",
        "Using only numpy, implement conv2d(). It takes input `input_mat` and `kernel_mat`, and convolves them to return `output_mat` using valid padding."
      ]
    },
    {
      "cell_type": "code",
      "metadata": {
        "id": "OsRcgv3SkQdH",
        "colab_type": "code",
        "colab": {}
      },
      "source": [
        "## Helper function, handles the convolution of individual chunks from the input\n",
        "def convsingle(input_chunk, kernel):\n",
        "\n",
        "  if(input_chunk.shape != kernel.shape):\n",
        "    print(f'Input chunk: {input_chunk}\\n Kernel: {kernel}')\n",
        "    raise Exception(\"Recieved invalid input chunk to convolve with kernel\")\n",
        "\n",
        "  convresult = 0\n",
        "\n",
        "  ## Perform elementwise multiplication of the  and the kernel \n",
        "  for r in np.arange(0, input_chunk.shape[0]):\n",
        "    for c in np.arange(0, input_chunk.shape[1]):\n",
        "      convresult += input_chunk[r][c] * kernel[r][c]\n",
        "  return convresult"
      ],
      "execution_count": 0,
      "outputs": []
    },
    {
      "cell_type": "code",
      "metadata": {
        "id": "MC54VdVZMCB6",
        "colab_type": "code",
        "colab": {}
      },
      "source": [
        "import numpy as np\n",
        "\n",
        "def conv2d(input_mat, kernel_mat):\n",
        "  # EXCEPTION HANDLING:\n",
        "  ## Null inputs\n",
        "  if(input_mat is None):\n",
        "    raise Exception(\"Input matrix cannot be None.\")\n",
        "  if(kernel_mat is None):\n",
        "    raise Exception(\"Kernel matrix cannot be None.\")\n",
        "\n",
        "  ## If the kernel/filter is larger than the input matrix, throw exception\n",
        "  if(input_mat.shape[0] * input_mat.shape[1] < kernel_mat.shape[0] * kernel_mat.shape[1]):\n",
        "    raise Exception(\"Filter is larger than input matrix!\")\n",
        "\n",
        "  ## Empty input matrix\n",
        "  if(input_mat.size == 0):\n",
        "    raise Exception(\"Cannot convolve an empty input array.\")\n",
        "\n",
        "  ## Empty kernel\n",
        "  if(input_mat.size == 0):\n",
        "    raise Exception(\"Cannot convolve with an empty kernel.\")\n",
        "\n",
        "  ## Stride is a constant = 1 for the sake of this homework.\n",
        "  stride = 1\n",
        "\n",
        "  ## Set up output np array\n",
        "  ## Output array has shape [input rows - kernel rows - 1, incols - kerncols - 1]\n",
        "  ## Visual example:\n",
        "  ## Input shape:         Kernel shape: \n",
        "  ## * * * * * * *        * * *\n",
        "  ## * * * * * * *        * * *\n",
        "  ## * * * * * * *\n",
        "  ## Output shape:\n",
        "  ## * * * * *\n",
        "  ## * * * * *\n",
        "  output_shape = (input_mat.shape[0] - (kernel_mat.shape[0] - 1)\n",
        "                  , input_mat.shape[1] - (kernel_mat.shape[1] - 1))\n",
        "  output_mat = np.zeros(output_shape)\n",
        "\n",
        "  ## Iterate through the output matrix by intervals the size of the stride,\n",
        "  ## convoluting the input matrix and kernel at the same indices and placing \n",
        "  ## the result in output[r][c].\n",
        "  for r in np.arange(0, output_shape[0], stride):\n",
        "    for c in np.arange(0, output_shape[1], stride):\n",
        "      output_mat[r, c] = convsingle(input_mat[r:r+(kernel_mat.shape[0]),\n",
        "                                                  c:c+(kernel_mat.shape[1])], kernel_mat)\n",
        "  return output_mat\n"
      ],
      "execution_count": 0,
      "outputs": []
    },
    {
      "cell_type": "markdown",
      "metadata": {
        "id": "foC4laKSMTXC",
        "colab_type": "text"
      },
      "source": [
        "Code-focused resources used:\n",
        "\n",
        "https://ml-cheatsheet.readthedocs.io/en/latest/layers.html#convolution\n",
        "\n",
        "Resources I mainly used to look at the visual aids that helped me a lot:\n",
        "\n",
        "https://timdettmers.com/2015/03/26/convolution-deep-learning/\n",
        "\n",
        "https://www.youtube.com/watch?v=sTTuaNp5LTw\n",
        "\n",
        "https://stats.stackexchange.com/questions/154798/difference-between-kernel-and-filter-in-cnn"
      ]
    }
  ]
}