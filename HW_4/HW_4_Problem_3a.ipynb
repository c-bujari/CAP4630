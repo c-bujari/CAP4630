{
  "nbformat": 4,
  "nbformat_minor": 0,
  "metadata": {
    "colab": {
      "name": "HW_4_Problem_3a.ipynb",
      "provenance": [],
      "collapsed_sections": [],
      "authorship_tag": "ABX9TyNh8s6gAOcMejg8v3wD6yHV",
      "include_colab_link": true
    },
    "kernelspec": {
      "name": "python3",
      "display_name": "Python 3"
    },
    "accelerator": "GPU"
  },
  "cells": [
    {
      "cell_type": "markdown",
      "metadata": {
        "id": "view-in-github",
        "colab_type": "text"
      },
      "source": [
        "<a href=\"https://colab.research.google.com/github/c-bujari/CAP4630/blob/master/HW_4/HW_4_Problem_3a.ipynb\" target=\"_parent\"><img src=\"https://colab.research.google.com/assets/colab-badge.svg\" alt=\"Open In Colab\"/></a>"
      ]
    },
    {
      "cell_type": "markdown",
      "metadata": {
        "id": "buiQSok796Yw",
        "colab_type": "text"
      },
      "source": [
        "# Homework 4 - Problem 3a\n",
        "###CAP 4630 Artificial Intelligience\n",
        "####Clyde Bujari"
      ]
    },
    {
      "cell_type": "markdown",
      "metadata": {
        "id": "d0I4BcdoE2lz",
        "colab_type": "text"
      },
      "source": [
        "The following code is directly pulled from [the professor's example model](https://colab.research.google.com/drive/1F-RWvoxH8MmT7c1UmNy41iuOp-ejiLoF#scrollTo=Fh6gZSeAjF7c) as we were instructed, with modifications to the pre-trained convolutional base model being used as well as the classifier."
      ]
    },
    {
      "cell_type": "markdown",
      "metadata": {
        "id": "OExPn8SHGDNH",
        "colab_type": "text"
      },
      "source": [
        "## Downloading and Preparing the Data"
      ]
    },
    {
      "cell_type": "markdown",
      "metadata": {
        "id": "RWuO61N9Fpy6",
        "colab_type": "text"
      },
      "source": [
        "Download and extract the example data, a zip of 2000 JPG pictures of cats and dogs."
      ]
    },
    {
      "cell_type": "code",
      "metadata": {
        "id": "JyAeFocO91Y_",
        "colab_type": "code",
        "outputId": "c2d080f7-4690-4e49-ce94-4bdaa58b01b3",
        "colab": {
          "base_uri": "https://localhost:8080/",
          "height": 219
        }
      },
      "source": [
        "!wget --no-check-certificate \\\n",
        "    https://storage.googleapis.com/mledu-datasets/cats_and_dogs_filtered.zip \\\n",
        "    -O /tmp/cats_and_dogs_filtered.zip"
      ],
      "execution_count": 1,
      "outputs": [
        {
          "output_type": "stream",
          "text": [
            "--2020-04-21 04:28:05--  https://storage.googleapis.com/mledu-datasets/cats_and_dogs_filtered.zip\n",
            "Resolving storage.googleapis.com (storage.googleapis.com)... 74.125.124.128, 2607:f8b0:4001:c03::80\n",
            "Connecting to storage.googleapis.com (storage.googleapis.com)|74.125.124.128|:443... connected.\n",
            "HTTP request sent, awaiting response... 200 OK\n",
            "Length: 68606236 (65M) [application/zip]\n",
            "Saving to: ‘/tmp/cats_and_dogs_filtered.zip’\n",
            "\n",
            "/tmp/cats_and_dogs_ 100%[===================>]  65.43M  33.3MB/s    in 2.0s    \n",
            "\n",
            "2020-04-21 04:28:07 (33.3 MB/s) - ‘/tmp/cats_and_dogs_filtered.zip’ saved [68606236/68606236]\n",
            "\n"
          ],
          "name": "stdout"
        }
      ]
    },
    {
      "cell_type": "code",
      "metadata": {
        "id": "a1JkbtKJFWAY",
        "colab_type": "code",
        "colab": {}
      },
      "source": [
        "import os\n",
        "import zipfile\n",
        "\n",
        "local_zip = '/tmp/cats_and_dogs_filtered.zip'\n",
        "zip_ref = zipfile.ZipFile(local_zip, 'r')\n",
        "zip_ref.extractall('/tmp')\n",
        "zip_ref.close()"
      ],
      "execution_count": 0,
      "outputs": []
    },
    {
      "cell_type": "markdown",
      "metadata": {
        "id": "XpeMMCCwFZCu",
        "colab_type": "text"
      },
      "source": [
        "Note: Google did not provide a test set in this data set."
      ]
    },
    {
      "cell_type": "code",
      "metadata": {
        "id": "DaOxZqrkFTvD",
        "colab_type": "code",
        "colab": {}
      },
      "source": [
        "base_dir = '/tmp/cats_and_dogs_filtered'\n",
        "train_dir = os.path.join(base_dir, 'train')\n",
        "validation_dir = os.path.join(base_dir, 'validation')\n",
        "\n",
        "# Directory with our training cat pictures\n",
        "train_cats_dir = os.path.join(train_dir, 'cats')\n",
        "\n",
        "# Directory with our training dog pictures\n",
        "train_dogs_dir = os.path.join(train_dir, 'dogs')\n",
        "\n",
        "# Directory with our validation cat pictures\n",
        "validation_cats_dir = os.path.join(validation_dir, 'cats')\n",
        "\n",
        "# Directory with our validation dog pictures\n",
        "validation_dogs_dir = os.path.join(validation_dir, 'dogs')"
      ],
      "execution_count": 0,
      "outputs": []
    },
    {
      "cell_type": "markdown",
      "metadata": {
        "id": "zzt5v-RlF1Tb",
        "colab_type": "text"
      },
      "source": [
        "## Build network with pre-trained convolution base and custom densely connected layers\n",
        "Using: ResNet50v2\n",
        "\n",
        "Reasoning:\n",
        "\n",
        "A [source](https://towardsdatascience.com/an-overview-of-resnet-and-its-variants-5281e2f56035) I found claims that a denser, rather than wider, approach to deep learning performs better. Judging by the data in the table before the model documentation at https://keras.io/applications/, there are many models availible that seem like they may outperform VGG16, judging by the statistics shown on the page.\n",
        "\n",
        "ResNet models' \"identity shortcut connection\" discussed in the source above seems to give it an advantage over other deep networks, so I wanted to choose one of those.\n",
        "\n",
        "In practice, this model turned out to be quite a bit messier and less accurate than VGG16 - likely not a good choice for this data, or I needed to figure out some more of its parameters.\n",
        "\n",
        "Nonetheless, I stuck to it to see what improvements I could get out of just changing the classifier."
      ]
    },
    {
      "cell_type": "markdown",
      "metadata": {
        "id": "IkTqUzMRF-Ix",
        "colab_type": "text"
      },
      "source": [
        "### Load and freeze the convolutional base"
      ]
    },
    {
      "cell_type": "code",
      "metadata": {
        "id": "opRGhT6QF8yn",
        "colab_type": "code",
        "outputId": "4b51cd67-f824-444b-a5e5-269c2afe93a4",
        "colab": {
          "base_uri": "https://localhost:8080/",
          "height": 92
        }
      },
      "source": [
        "from keras.applications import VGG16\n",
        "from keras.applications import ResNet50V2\n",
        "\n",
        "conv_base = ResNet50V2(\n",
        "    weights='imagenet',\n",
        "    include_top=False,\n",
        "    input_shape=(150, 150, 3))"
      ],
      "execution_count": 4,
      "outputs": [
        {
          "output_type": "stream",
          "text": [
            "Using TensorFlow backend.\n"
          ],
          "name": "stderr"
        },
        {
          "output_type": "stream",
          "text": [
            "Downloading data from https://github.com/keras-team/keras-applications/releases/download/resnet/resnet50v2_weights_tf_dim_ordering_tf_kernels_notop.h5\n",
            "94674944/94668760 [==============================] - 2s 0us/step\n"
          ],
          "name": "stdout"
        }
      ]
    },
    {
      "cell_type": "code",
      "metadata": {
        "id": "2J5wvSO8GRoK",
        "colab_type": "code",
        "colab": {}
      },
      "source": [
        "conv_base.trainable = False"
      ],
      "execution_count": 0,
      "outputs": []
    },
    {
      "cell_type": "markdown",
      "metadata": {
        "id": "1OF8FSgHGbai",
        "colab_type": "text"
      },
      "source": [
        "### Concatenate the convolutional base and densely connected layers"
      ]
    },
    {
      "cell_type": "markdown",
      "metadata": {
        "id": "4h0szFSUsSjd",
        "colab_type": "text"
      },
      "source": [
        "This version of the problem uses the exact same, simple classifier used in the code we were given, as I wanted a baseline to compare any changes I made to."
      ]
    },
    {
      "cell_type": "code",
      "metadata": {
        "id": "xWUlFfEEH1t0",
        "colab_type": "code",
        "colab": {}
      },
      "source": [
        "from keras import layers\n",
        "from keras import models\n",
        "from keras import optimizers\n",
        "\n",
        "model = models.Sequential()\n",
        "model.add(conv_base)\n",
        "model.add(layers.Flatten())\n",
        "model.add(layers.Dense(256, activation='relu'))\n",
        "#model.add(layers.Dropout(0.1))\n",
        "model.add(layers.Dense(1, activation='sigmoid'))"
      ],
      "execution_count": 0,
      "outputs": []
    },
    {
      "cell_type": "code",
      "metadata": {
        "id": "rHK16QDPH2td",
        "colab_type": "code",
        "outputId": "8fa89c50-5b4d-4306-c604-e03b56e9853c",
        "colab": {
          "base_uri": "https://localhost:8080/",
          "height": 311
        }
      },
      "source": [
        "model.summary()"
      ],
      "execution_count": 7,
      "outputs": [
        {
          "output_type": "stream",
          "text": [
            "Model: \"sequential_1\"\n",
            "_________________________________________________________________\n",
            "Layer (type)                 Output Shape              Param #   \n",
            "=================================================================\n",
            "resnet50v2 (Model)           (None, 5, 5, 2048)        23564800  \n",
            "_________________________________________________________________\n",
            "flatten_1 (Flatten)          (None, 51200)             0         \n",
            "_________________________________________________________________\n",
            "dense_1 (Dense)              (None, 256)               13107456  \n",
            "_________________________________________________________________\n",
            "dense_2 (Dense)              (None, 1)                 257       \n",
            "=================================================================\n",
            "Total params: 36,672,513\n",
            "Trainable params: 13,107,713\n",
            "Non-trainable params: 23,564,800\n",
            "_________________________________________________________________\n"
          ],
          "name": "stdout"
        }
      ]
    },
    {
      "cell_type": "markdown",
      "metadata": {
        "id": "IQo1j_KUH5FI",
        "colab_type": "text"
      },
      "source": [
        "## Train the model end to end with frozen convolutional base"
      ]
    },
    {
      "cell_type": "code",
      "metadata": {
        "id": "GLJA2v7TH57N",
        "colab_type": "code",
        "outputId": "f5c03897-10f1-43e8-bc8d-06867f0fad46",
        "colab": {
          "base_uri": "https://localhost:8080/",
          "height": 1000
        }
      },
      "source": [
        "from keras.preprocessing.image import ImageDataGenerator\n",
        "from keras import optimizers\n",
        "\n",
        "# data augmentation\n",
        "\n",
        "train_datagen = ImageDataGenerator(\n",
        "    rescale=1./255, \n",
        "    rotation_range=40,\n",
        "    width_shift_range=0.2,\n",
        "    height_shift_range=0.2,\n",
        "    shear_range=0.2,\n",
        "    zoom_range=0.2,\n",
        "    horizontal_flip=True,\n",
        "    fill_mode='nearest'\n",
        ")\n",
        "\n",
        "train_generator = train_datagen.flow_from_directory(\n",
        "    train_dir,\n",
        "    target_size=(150, 150),\n",
        "    batch_size=20,\n",
        "    class_mode='binary')\n",
        "\n",
        "validation_datagen = ImageDataGenerator(rescale=1./255)\n",
        "\n",
        "validation_generator = validation_datagen.flow_from_directory(\n",
        "    validation_dir,\n",
        "    target_size=(150, 150),\n",
        "    batch_size=20,\n",
        "    class_mode='binary')\n",
        "\n",
        "# compile model\n",
        "\n",
        "model.compile(\n",
        "    loss='binary_crossentropy', \n",
        "    optimizer=optimizers.RMSprop(lr=2e-5), \n",
        "    metrics=['acc'])\n",
        "\n",
        "# train\n",
        "\n",
        "history = model.fit_generator(\n",
        "    train_generator,\n",
        "    steps_per_epoch=100,\n",
        "    epochs=30,\n",
        "    validation_data=validation_generator,\n",
        "    validation_steps=50\n",
        ")"
      ],
      "execution_count": 8,
      "outputs": [
        {
          "output_type": "stream",
          "text": [
            "Found 2000 images belonging to 2 classes.\n",
            "Found 1000 images belonging to 2 classes.\n",
            "Epoch 1/30\n",
            "100/100 [==============================] - 26s 259ms/step - loss: 0.4970 - acc: 0.7530 - val_loss: 0.0540 - val_acc: 0.9480\n",
            "Epoch 2/30\n",
            "100/100 [==============================] - 17s 170ms/step - loss: 0.3687 - acc: 0.8385 - val_loss: 0.0872 - val_acc: 0.9470\n",
            "Epoch 3/30\n",
            "100/100 [==============================] - 17s 168ms/step - loss: 0.3305 - acc: 0.8565 - val_loss: 1.0068 - val_acc: 0.9470\n",
            "Epoch 4/30\n",
            "100/100 [==============================] - 17s 169ms/step - loss: 0.3160 - acc: 0.8640 - val_loss: 0.4022 - val_acc: 0.9550\n",
            "Epoch 5/30\n",
            "100/100 [==============================] - 17s 168ms/step - loss: 0.3554 - acc: 0.8475 - val_loss: 0.2344 - val_acc: 0.9590\n",
            "Epoch 6/30\n",
            "100/100 [==============================] - 17s 167ms/step - loss: 0.3275 - acc: 0.8520 - val_loss: 0.1331 - val_acc: 0.9580\n",
            "Epoch 7/30\n",
            "100/100 [==============================] - 17s 169ms/step - loss: 0.2823 - acc: 0.8805 - val_loss: 0.2847 - val_acc: 0.9660\n",
            "Epoch 8/30\n",
            "100/100 [==============================] - 17s 169ms/step - loss: 0.2682 - acc: 0.8875 - val_loss: 0.0015 - val_acc: 0.9630\n",
            "Epoch 9/30\n",
            "100/100 [==============================] - 17s 169ms/step - loss: 0.2967 - acc: 0.8820 - val_loss: 0.4146 - val_acc: 0.9650\n",
            "Epoch 10/30\n",
            "100/100 [==============================] - 17s 169ms/step - loss: 0.2637 - acc: 0.8885 - val_loss: 6.8011e-04 - val_acc: 0.9630\n",
            "Epoch 11/30\n",
            "100/100 [==============================] - 17s 169ms/step - loss: 0.2393 - acc: 0.8990 - val_loss: 0.0152 - val_acc: 0.9550\n",
            "Epoch 12/30\n",
            "100/100 [==============================] - 17s 169ms/step - loss: 0.2494 - acc: 0.9015 - val_loss: 0.0042 - val_acc: 0.9640\n",
            "Epoch 13/30\n",
            "100/100 [==============================] - 17s 169ms/step - loss: 0.2522 - acc: 0.8915 - val_loss: 0.0266 - val_acc: 0.9600\n",
            "Epoch 14/30\n",
            "100/100 [==============================] - 17s 168ms/step - loss: 0.2526 - acc: 0.8950 - val_loss: 0.9726 - val_acc: 0.9660\n",
            "Epoch 15/30\n",
            "100/100 [==============================] - 17s 168ms/step - loss: 0.2299 - acc: 0.9120 - val_loss: 8.9191e-09 - val_acc: 0.9640\n",
            "Epoch 16/30\n",
            "100/100 [==============================] - 17s 171ms/step - loss: 0.2501 - acc: 0.8965 - val_loss: 5.4256e-04 - val_acc: 0.9690\n",
            "Epoch 17/30\n",
            "100/100 [==============================] - 17s 168ms/step - loss: 0.2256 - acc: 0.9070 - val_loss: 0.0837 - val_acc: 0.9670\n",
            "Epoch 18/30\n",
            "100/100 [==============================] - 17s 169ms/step - loss: 0.2301 - acc: 0.9100 - val_loss: 0.3286 - val_acc: 0.9650\n",
            "Epoch 19/30\n",
            "100/100 [==============================] - 17s 168ms/step - loss: 0.2516 - acc: 0.8950 - val_loss: 0.0373 - val_acc: 0.9680\n",
            "Epoch 20/30\n",
            "100/100 [==============================] - 17s 168ms/step - loss: 0.2260 - acc: 0.9090 - val_loss: 8.2738e-04 - val_acc: 0.9620\n",
            "Epoch 21/30\n",
            "100/100 [==============================] - 17s 169ms/step - loss: 0.2367 - acc: 0.9060 - val_loss: 0.6381 - val_acc: 0.9540\n",
            "Epoch 22/30\n",
            "100/100 [==============================] - 17s 168ms/step - loss: 0.2205 - acc: 0.9055 - val_loss: 0.9586 - val_acc: 0.9650\n",
            "Epoch 23/30\n",
            "100/100 [==============================] - 17s 168ms/step - loss: 0.2302 - acc: 0.9060 - val_loss: 0.1324 - val_acc: 0.9650\n",
            "Epoch 24/30\n",
            "100/100 [==============================] - 17s 168ms/step - loss: 0.2361 - acc: 0.9070 - val_loss: 0.9927 - val_acc: 0.9680\n",
            "Epoch 25/30\n",
            "100/100 [==============================] - 17s 168ms/step - loss: 0.2042 - acc: 0.9170 - val_loss: 1.3964e-08 - val_acc: 0.9660\n",
            "Epoch 26/30\n",
            "100/100 [==============================] - 17s 168ms/step - loss: 0.2308 - acc: 0.9110 - val_loss: 0.0450 - val_acc: 0.9650\n",
            "Epoch 27/30\n",
            "100/100 [==============================] - 17s 168ms/step - loss: 0.2050 - acc: 0.9160 - val_loss: 0.1703 - val_acc: 0.9670\n",
            "Epoch 28/30\n",
            "100/100 [==============================] - 17s 169ms/step - loss: 0.2113 - acc: 0.9195 - val_loss: 3.8352e-09 - val_acc: 0.9640\n",
            "Epoch 29/30\n",
            "100/100 [==============================] - 17s 168ms/step - loss: 0.2094 - acc: 0.9185 - val_loss: 1.8437e-06 - val_acc: 0.9560\n",
            "Epoch 30/30\n",
            "100/100 [==============================] - 17s 168ms/step - loss: 0.2093 - acc: 0.9145 - val_loss: 1.3864e-04 - val_acc: 0.9620\n"
          ],
          "name": "stdout"
        }
      ]
    },
    {
      "cell_type": "markdown",
      "metadata": {
        "id": "YCRi6DJkH98l",
        "colab_type": "text"
      },
      "source": [
        "## Display curves of loss and accuracy during training"
      ]
    },
    {
      "cell_type": "code",
      "metadata": {
        "id": "Kbrnx108IAlj",
        "colab_type": "code",
        "outputId": "2458aff2-a1dc-420f-f5e0-701f81c46af4",
        "colab": {
          "base_uri": "https://localhost:8080/",
          "height": 545
        }
      },
      "source": [
        "%matplotlib inline\n",
        "\n",
        "import matplotlib.pyplot as plt\n",
        "\n",
        "acc = history.history['acc']\n",
        "val_acc = history.history['val_acc']\n",
        "\n",
        "loss = history.history['loss']\n",
        "val_loss = history.history['val_loss']\n",
        "\n",
        "epochs = range(1, len(acc) + 1)\n",
        "\n",
        "# training and validation accuracy\n",
        "\n",
        "plt.plot(epochs, acc, 'bo', label='training acc')\n",
        "plt.plot(epochs, val_acc, 'b', label='validation acc')\n",
        "plt.title('training and validation accuracy')\n",
        "plt.legend()\n",
        "\n",
        "plt.figure()\n",
        "\n",
        "# training and validation loss\n",
        "\n",
        "plt.plot(epochs, loss, 'bo', label='training loss')\n",
        "plt.plot(epochs, val_loss, 'b', label='validation loss')\n",
        "plt.title('training and validation loss')\n",
        "plt.legend()\n",
        "\n",
        "plt.show()"
      ],
      "execution_count": 9,
      "outputs": [
        {
          "output_type": "display_data",
          "data": {
            "image/png": "[encoded data removed]",
            "text/plain": [
              "<Figure size 432x288 with 1 Axes>"
            ]
          },
          "metadata": {
            "tags": [],
            "needs_background": "light"
          }
        },
        {
          "output_type": "display_data",
          "data": {
            "image/png": "[encoded data removed]",
            "text/plain": [
              "<Figure size 432x288 with 1 Axes>"
            ]
          },
          "metadata": {
            "tags": [],
            "needs_background": "light"
          }
        }
      ]
    },
    {
      "cell_type": "markdown",
      "metadata": {
        "id": "DpRXHihfIDxv",
        "colab_type": "text"
      },
      "source": [
        "## Fine-tuning"
      ]
    },
    {
      "cell_type": "markdown",
      "metadata": {
        "id": "OyMQbNxgPMKO",
        "colab_type": "text"
      },
      "source": [
        "Unfreezing the conv base - in my case this process appears to be the same as for VGG16"
      ]
    },
    {
      "cell_type": "code",
      "metadata": {
        "id": "TZZKM81NIEo9",
        "colab_type": "code",
        "colab": {}
      },
      "source": [
        "conv_base.trainable = True\n",
        "\n",
        "set_trainable = False\n",
        "for layer in conv_base.layers:\n",
        "  if layer.name == 'block5_conv1':\n",
        "    set_trainable = True\n",
        "  if set_trainable:\n",
        "    layer.trainable = True\n",
        "  else:\n",
        "    layer.trainable = False"
      ],
      "execution_count": 0,
      "outputs": []
    },
    {
      "cell_type": "code",
      "metadata": {
        "id": "XnwP7s2mIGBs",
        "colab_type": "code",
        "outputId": "64517ddc-7a81-4f68-ac93-d6c7294a62d6",
        "colab": {
          "base_uri": "https://localhost:8080/",
          "height": 1000
        }
      },
      "source": [
        "# compile model\n",
        "\n",
        "model.compile(\n",
        "    loss='binary_crossentropy',\n",
        "    #\n",
        "    # choose a smaller learning rate\n",
        "    #\n",
        "    optimizer=optimizers.RMSprop(lr=1e-5), \n",
        "    metrics=['acc'])\n",
        "\n",
        "# train\n",
        "\n",
        "history = model.fit_generator(\n",
        "    train_generator,\n",
        "    steps_per_epoch=100,\n",
        "    epochs=100,\n",
        "    validation_data=validation_generator,\n",
        "    validation_steps=50)"
      ],
      "execution_count": 11,
      "outputs": [
        {
          "output_type": "stream",
          "text": [
            "Epoch 1/100\n",
            "100/100 [==============================] - 20s 204ms/step - loss: 0.2004 - acc: 0.9150 - val_loss: 0.0065 - val_acc: 0.9500\n",
            "Epoch 2/100\n",
            "100/100 [==============================] - 17s 170ms/step - loss: 0.2199 - acc: 0.9225 - val_loss: 0.1974 - val_acc: 0.9340\n",
            "Epoch 3/100\n",
            "100/100 [==============================] - 17s 172ms/step - loss: 0.2098 - acc: 0.9215 - val_loss: 0.3597 - val_acc: 0.9340\n",
            "Epoch 4/100\n",
            "100/100 [==============================] - 17s 172ms/step - loss: 0.2099 - acc: 0.9155 - val_loss: 0.0178 - val_acc: 0.9370\n",
            "Epoch 5/100\n",
            "100/100 [==============================] - 17s 172ms/step - loss: 0.1945 - acc: 0.9255 - val_loss: 0.1887 - val_acc: 0.9350\n",
            "Epoch 6/100\n",
            "100/100 [==============================] - 17s 171ms/step - loss: 0.2015 - acc: 0.9260 - val_loss: 0.1615 - val_acc: 0.9300\n",
            "Epoch 7/100\n",
            "100/100 [==============================] - 17s 170ms/step - loss: 0.1848 - acc: 0.9260 - val_loss: 0.4790 - val_acc: 0.9400\n",
            "Epoch 8/100\n",
            "100/100 [==============================] - 17s 170ms/step - loss: 0.1818 - acc: 0.9275 - val_loss: 0.1326 - val_acc: 0.9370\n",
            "Epoch 9/100\n",
            "100/100 [==============================] - 17s 171ms/step - loss: 0.1908 - acc: 0.9390 - val_loss: 0.2677 - val_acc: 0.9390\n",
            "Epoch 10/100\n",
            "100/100 [==============================] - 17s 172ms/step - loss: 0.2008 - acc: 0.9235 - val_loss: 1.2351 - val_acc: 0.9380\n",
            "Epoch 11/100\n",
            "100/100 [==============================] - 17s 170ms/step - loss: 0.1641 - acc: 0.9345 - val_loss: 0.3314 - val_acc: 0.9380\n",
            "Epoch 12/100\n",
            "100/100 [==============================] - 17s 172ms/step - loss: 0.1854 - acc: 0.9310 - val_loss: 0.0791 - val_acc: 0.9350\n",
            "Epoch 13/100\n",
            "100/100 [==============================] - 17s 170ms/step - loss: 0.1928 - acc: 0.9275 - val_loss: 0.3881 - val_acc: 0.9410\n",
            "Epoch 14/100\n",
            "100/100 [==============================] - 17s 171ms/step - loss: 0.1999 - acc: 0.9185 - val_loss: 0.0517 - val_acc: 0.9400\n",
            "Epoch 15/100\n",
            "100/100 [==============================] - 17s 173ms/step - loss: 0.1714 - acc: 0.9400 - val_loss: 0.0083 - val_acc: 0.9390\n",
            "Epoch 16/100\n",
            "100/100 [==============================] - 17s 170ms/step - loss: 0.1810 - acc: 0.9315 - val_loss: 0.0453 - val_acc: 0.9320\n",
            "Epoch 17/100\n",
            "100/100 [==============================] - 17s 170ms/step - loss: 0.1910 - acc: 0.9240 - val_loss: 0.0567 - val_acc: 0.9360\n",
            "Epoch 18/100\n",
            "100/100 [==============================] - 17s 171ms/step - loss: 0.1814 - acc: 0.9330 - val_loss: 0.1688 - val_acc: 0.9400\n",
            "Epoch 19/100\n",
            "100/100 [==============================] - 17s 171ms/step - loss: 0.1676 - acc: 0.9350 - val_loss: 0.1566 - val_acc: 0.9370\n",
            "Epoch 20/100\n",
            "100/100 [==============================] - 17s 171ms/step - loss: 0.1747 - acc: 0.9290 - val_loss: 0.0154 - val_acc: 0.9330\n",
            "Epoch 21/100\n",
            "100/100 [==============================] - 17s 171ms/step - loss: 0.1896 - acc: 0.9275 - val_loss: 0.2573 - val_acc: 0.9310\n",
            "Epoch 22/100\n",
            "100/100 [==============================] - 17s 172ms/step - loss: 0.2109 - acc: 0.9195 - val_loss: 0.4557 - val_acc: 0.9370\n",
            "Epoch 23/100\n",
            "100/100 [==============================] - 17s 171ms/step - loss: 0.1832 - acc: 0.9300 - val_loss: 0.2705 - val_acc: 0.9360\n",
            "Epoch 24/100\n",
            "100/100 [==============================] - 17s 172ms/step - loss: 0.1869 - acc: 0.9360 - val_loss: 0.0112 - val_acc: 0.9370\n",
            "Epoch 25/100\n",
            "100/100 [==============================] - 17s 171ms/step - loss: 0.1739 - acc: 0.9315 - val_loss: 0.3030 - val_acc: 0.9400\n",
            "Epoch 26/100\n",
            "100/100 [==============================] - 17s 170ms/step - loss: 0.1618 - acc: 0.9360 - val_loss: 0.5686 - val_acc: 0.9380\n",
            "Epoch 27/100\n",
            "100/100 [==============================] - 17s 170ms/step - loss: 0.1625 - acc: 0.9345 - val_loss: 0.0508 - val_acc: 0.9330\n",
            "Epoch 28/100\n",
            "100/100 [==============================] - 17s 170ms/step - loss: 0.1720 - acc: 0.9340 - val_loss: 0.1273 - val_acc: 0.9360\n",
            "Epoch 29/100\n",
            "100/100 [==============================] - 17s 171ms/step - loss: 0.1731 - acc: 0.9405 - val_loss: 0.0101 - val_acc: 0.9340\n",
            "Epoch 30/100\n",
            "100/100 [==============================] - 17s 170ms/step - loss: 0.2071 - acc: 0.9210 - val_loss: 0.8259 - val_acc: 0.9400\n",
            "Epoch 31/100\n",
            "100/100 [==============================] - 17s 171ms/step - loss: 0.1839 - acc: 0.9325 - val_loss: 0.2444 - val_acc: 0.9360\n",
            "Epoch 32/100\n",
            "100/100 [==============================] - 17s 171ms/step - loss: 0.1591 - acc: 0.9365 - val_loss: 0.0146 - val_acc: 0.9340\n",
            "Epoch 33/100\n",
            "100/100 [==============================] - 17s 172ms/step - loss: 0.1964 - acc: 0.9265 - val_loss: 0.1477 - val_acc: 0.9420\n",
            "Epoch 34/100\n",
            "100/100 [==============================] - 17s 171ms/step - loss: 0.1861 - acc: 0.9340 - val_loss: 0.0080 - val_acc: 0.9390\n",
            "Epoch 35/100\n",
            "100/100 [==============================] - 17s 171ms/step - loss: 0.1725 - acc: 0.9295 - val_loss: 0.1255 - val_acc: 0.9420\n",
            "Epoch 36/100\n",
            "100/100 [==============================] - 17s 171ms/step - loss: 0.1743 - acc: 0.9375 - val_loss: 0.0040 - val_acc: 0.9420\n",
            "Epoch 37/100\n",
            "100/100 [==============================] - 17s 170ms/step - loss: 0.1815 - acc: 0.9350 - val_loss: 0.1406 - val_acc: 0.9370\n",
            "Epoch 38/100\n",
            "100/100 [==============================] - 17s 172ms/step - loss: 0.1751 - acc: 0.9390 - val_loss: 0.4159 - val_acc: 0.9360\n",
            "Epoch 39/100\n",
            "100/100 [==============================] - 17s 170ms/step - loss: 0.1887 - acc: 0.9335 - val_loss: 1.4360 - val_acc: 0.9380\n",
            "Epoch 40/100\n",
            "100/100 [==============================] - 17s 173ms/step - loss: 0.1710 - acc: 0.9370 - val_loss: 0.1406 - val_acc: 0.9330\n",
            "Epoch 41/100\n",
            "100/100 [==============================] - 17s 170ms/step - loss: 0.1831 - acc: 0.9410 - val_loss: 0.0202 - val_acc: 0.9350\n",
            "Epoch 42/100\n",
            "100/100 [==============================] - 17s 170ms/step - loss: 0.1748 - acc: 0.9355 - val_loss: 0.1777 - val_acc: 0.9390\n",
            "Epoch 43/100\n",
            "100/100 [==============================] - 17s 172ms/step - loss: 0.1652 - acc: 0.9375 - val_loss: 0.3334 - val_acc: 0.9400\n",
            "Epoch 44/100\n",
            "100/100 [==============================] - 17s 171ms/step - loss: 0.1776 - acc: 0.9330 - val_loss: 4.0879e-04 - val_acc: 0.9370\n",
            "Epoch 45/100\n",
            "100/100 [==============================] - 17s 170ms/step - loss: 0.1840 - acc: 0.9360 - val_loss: 0.4200 - val_acc: 0.9360\n",
            "Epoch 46/100\n",
            "100/100 [==============================] - 17s 171ms/step - loss: 0.1612 - acc: 0.9385 - val_loss: 0.0244 - val_acc: 0.9360\n",
            "Epoch 47/100\n",
            "100/100 [==============================] - 17s 172ms/step - loss: 0.1750 - acc: 0.9345 - val_loss: 0.1848 - val_acc: 0.9350\n",
            "Epoch 48/100\n",
            "100/100 [==============================] - 17s 171ms/step - loss: 0.1720 - acc: 0.9325 - val_loss: 0.1248 - val_acc: 0.9370\n",
            "Epoch 49/100\n",
            "100/100 [==============================] - 17s 171ms/step - loss: 0.1606 - acc: 0.9400 - val_loss: 0.0814 - val_acc: 0.9360\n",
            "Epoch 50/100\n",
            "100/100 [==============================] - 17s 171ms/step - loss: 0.1755 - acc: 0.9375 - val_loss: 0.0104 - val_acc: 0.9380\n",
            "Epoch 51/100\n",
            "100/100 [==============================] - 17s 171ms/step - loss: 0.1621 - acc: 0.9345 - val_loss: 0.0708 - val_acc: 0.9350\n",
            "Epoch 52/100\n",
            "100/100 [==============================] - 17s 172ms/step - loss: 0.1832 - acc: 0.9430 - val_loss: 0.1300 - val_acc: 0.9380\n",
            "Epoch 53/100\n",
            "100/100 [==============================] - 17s 171ms/step - loss: 0.1707 - acc: 0.9320 - val_loss: 0.0341 - val_acc: 0.9410\n",
            "Epoch 54/100\n",
            "100/100 [==============================] - 17s 170ms/step - loss: 0.1784 - acc: 0.9320 - val_loss: 0.0302 - val_acc: 0.9440\n",
            "Epoch 55/100\n",
            "100/100 [==============================] - 17s 170ms/step - loss: 0.1575 - acc: 0.9390 - val_loss: 0.4807 - val_acc: 0.9370\n",
            "Epoch 56/100\n",
            "100/100 [==============================] - 17s 171ms/step - loss: 0.1565 - acc: 0.9395 - val_loss: 0.4459 - val_acc: 0.9370\n",
            "Epoch 57/100\n",
            "100/100 [==============================] - 17s 172ms/step - loss: 0.1727 - acc: 0.9360 - val_loss: 0.1268 - val_acc: 0.9390\n",
            "Epoch 58/100\n",
            "100/100 [==============================] - 17s 173ms/step - loss: 0.1642 - acc: 0.9385 - val_loss: 0.1277 - val_acc: 0.9380\n",
            "Epoch 59/100\n",
            "100/100 [==============================] - 17s 170ms/step - loss: 0.1333 - acc: 0.9460 - val_loss: 0.1193 - val_acc: 0.9400\n",
            "Epoch 60/100\n",
            "100/100 [==============================] - 17s 171ms/step - loss: 0.1588 - acc: 0.9420 - val_loss: 0.0955 - val_acc: 0.9340\n",
            "Epoch 61/100\n",
            "100/100 [==============================] - 17s 172ms/step - loss: 0.1702 - acc: 0.9360 - val_loss: 0.6691 - val_acc: 0.9450\n",
            "Epoch 62/100\n",
            "100/100 [==============================] - 17s 171ms/step - loss: 0.1744 - acc: 0.9380 - val_loss: 0.0045 - val_acc: 0.9420\n",
            "Epoch 63/100\n",
            "100/100 [==============================] - 17s 170ms/step - loss: 0.2032 - acc: 0.9315 - val_loss: 0.3172 - val_acc: 0.9390\n",
            "Epoch 64/100\n",
            "100/100 [==============================] - 17s 171ms/step - loss: 0.1608 - acc: 0.9365 - val_loss: 0.0925 - val_acc: 0.9380\n",
            "Epoch 65/100\n",
            "100/100 [==============================] - 17s 170ms/step - loss: 0.1637 - acc: 0.9410 - val_loss: 0.1364 - val_acc: 0.9390\n",
            "Epoch 66/100\n",
            "100/100 [==============================] - 17s 172ms/step - loss: 0.1529 - acc: 0.9480 - val_loss: 0.0117 - val_acc: 0.9370\n",
            "Epoch 67/100\n",
            "100/100 [==============================] - 17s 171ms/step - loss: 0.1573 - acc: 0.9420 - val_loss: 0.1598 - val_acc: 0.9370\n",
            "Epoch 68/100\n",
            "100/100 [==============================] - 17s 170ms/step - loss: 0.1748 - acc: 0.9315 - val_loss: 0.0782 - val_acc: 0.9360\n",
            "Epoch 69/100\n",
            "100/100 [==============================] - 17s 172ms/step - loss: 0.1449 - acc: 0.9430 - val_loss: 0.0962 - val_acc: 0.9310\n",
            "Epoch 70/100\n",
            "100/100 [==============================] - 17s 171ms/step - loss: 0.1692 - acc: 0.9445 - val_loss: 0.4094 - val_acc: 0.9360\n",
            "Epoch 71/100\n",
            "100/100 [==============================] - 17s 172ms/step - loss: 0.1519 - acc: 0.9485 - val_loss: 0.0524 - val_acc: 0.9340\n",
            "Epoch 72/100\n",
            "100/100 [==============================] - 17s 170ms/step - loss: 0.1584 - acc: 0.9445 - val_loss: 0.2789 - val_acc: 0.9370\n",
            "Epoch 73/100\n",
            "100/100 [==============================] - 17s 171ms/step - loss: 0.1615 - acc: 0.9415 - val_loss: 0.1134 - val_acc: 0.9370\n",
            "Epoch 74/100\n",
            "100/100 [==============================] - 17s 171ms/step - loss: 0.1380 - acc: 0.9475 - val_loss: 0.1201 - val_acc: 0.9400\n",
            "Epoch 75/100\n",
            "100/100 [==============================] - 17s 170ms/step - loss: 0.1419 - acc: 0.9505 - val_loss: 0.0224 - val_acc: 0.9380\n",
            "Epoch 76/100\n",
            "100/100 [==============================] - 17s 175ms/step - loss: 0.1531 - acc: 0.9445 - val_loss: 0.0813 - val_acc: 0.9370\n",
            "Epoch 77/100\n",
            "100/100 [==============================] - 17s 171ms/step - loss: 0.1573 - acc: 0.9515 - val_loss: 0.5738 - val_acc: 0.9390\n",
            "Epoch 78/100\n",
            "100/100 [==============================] - 17s 171ms/step - loss: 0.1689 - acc: 0.9435 - val_loss: 0.0590 - val_acc: 0.9360\n",
            "Epoch 79/100\n",
            "100/100 [==============================] - 17s 171ms/step - loss: 0.1259 - acc: 0.9475 - val_loss: 0.1474 - val_acc: 0.9390\n",
            "Epoch 80/100\n",
            "100/100 [==============================] - 17s 171ms/step - loss: 0.1695 - acc: 0.9445 - val_loss: 0.5366 - val_acc: 0.9380\n",
            "Epoch 81/100\n",
            "100/100 [==============================] - 17s 171ms/step - loss: 0.1516 - acc: 0.9480 - val_loss: 0.1557 - val_acc: 0.9410\n",
            "Epoch 82/100\n",
            "100/100 [==============================] - 17s 171ms/step - loss: 0.1339 - acc: 0.9515 - val_loss: 0.0268 - val_acc: 0.9360\n",
            "Epoch 83/100\n",
            "100/100 [==============================] - 17s 171ms/step - loss: 0.1578 - acc: 0.9485 - val_loss: 0.4032 - val_acc: 0.9430\n",
            "Epoch 84/100\n",
            "100/100 [==============================] - 17s 171ms/step - loss: 0.1417 - acc: 0.9485 - val_loss: 0.2625 - val_acc: 0.9390\n",
            "Epoch 85/100\n",
            "100/100 [==============================] - 17s 172ms/step - loss: 0.1616 - acc: 0.9435 - val_loss: 0.0183 - val_acc: 0.9430\n",
            "Epoch 86/100\n",
            "100/100 [==============================] - 17s 171ms/step - loss: 0.1679 - acc: 0.9410 - val_loss: 0.0106 - val_acc: 0.9340\n",
            "Epoch 87/100\n",
            "100/100 [==============================] - 17s 172ms/step - loss: 0.1575 - acc: 0.9445 - val_loss: 0.4118 - val_acc: 0.9380\n",
            "Epoch 88/100\n",
            "100/100 [==============================] - 17s 171ms/step - loss: 0.1589 - acc: 0.9350 - val_loss: 0.1900 - val_acc: 0.9380\n",
            "Epoch 89/100\n",
            "100/100 [==============================] - 17s 170ms/step - loss: 0.1681 - acc: 0.9365 - val_loss: 0.0449 - val_acc: 0.9290\n",
            "Epoch 90/100\n",
            "100/100 [==============================] - 17s 171ms/step - loss: 0.1437 - acc: 0.9405 - val_loss: 0.4361 - val_acc: 0.9380\n",
            "Epoch 91/100\n",
            "100/100 [==============================] - 17s 171ms/step - loss: 0.1438 - acc: 0.9500 - val_loss: 0.4256 - val_acc: 0.9420\n",
            "Epoch 92/100\n",
            "100/100 [==============================] - 17s 170ms/step - loss: 0.1586 - acc: 0.9485 - val_loss: 0.0708 - val_acc: 0.9320\n",
            "Epoch 93/100\n",
            "100/100 [==============================] - 17s 170ms/step - loss: 0.1659 - acc: 0.9425 - val_loss: 0.0384 - val_acc: 0.9400\n",
            "Epoch 94/100\n",
            "100/100 [==============================] - 17s 173ms/step - loss: 0.1438 - acc: 0.9490 - val_loss: 0.1918 - val_acc: 0.9340\n",
            "Epoch 95/100\n",
            "100/100 [==============================] - 17s 172ms/step - loss: 0.1565 - acc: 0.9450 - val_loss: 0.0485 - val_acc: 0.9420\n",
            "Epoch 96/100\n",
            "100/100 [==============================] - 17s 170ms/step - loss: 0.1376 - acc: 0.9540 - val_loss: 0.1929 - val_acc: 0.9410\n",
            "Epoch 97/100\n",
            "100/100 [==============================] - 17s 170ms/step - loss: 0.1268 - acc: 0.9525 - val_loss: 0.1513 - val_acc: 0.9360\n",
            "Epoch 98/100\n",
            "100/100 [==============================] - 17s 171ms/step - loss: 0.1533 - acc: 0.9470 - val_loss: 0.2421 - val_acc: 0.9380\n",
            "Epoch 99/100\n",
            "100/100 [==============================] - 17s 171ms/step - loss: 0.1509 - acc: 0.9450 - val_loss: 0.0996 - val_acc: 0.9420\n",
            "Epoch 100/100\n",
            "100/100 [==============================] - 17s 171ms/step - loss: 0.1453 - acc: 0.9500 - val_loss: 0.2075 - val_acc: 0.9400\n"
          ],
          "name": "stdout"
        }
      ]
    },
    {
      "cell_type": "markdown",
      "metadata": {
        "id": "DaRD5bchIK2a",
        "colab_type": "text"
      },
      "source": [
        "## Display learning curves during fine-tuning"
      ]
    },
    {
      "cell_type": "code",
      "metadata": {
        "id": "xbvyuAUlIJzI",
        "colab_type": "code",
        "outputId": "725bc81d-1a1e-4209-c009-bcd3f14f837f",
        "colab": {
          "base_uri": "https://localhost:8080/",
          "height": 545
        }
      },
      "source": [
        "%matplotlib inline\n",
        "\n",
        "import matplotlib.pyplot as plt\n",
        "\n",
        "acc = history.history['acc']\n",
        "val_acc = history.history['val_acc']\n",
        "\n",
        "loss = history.history['loss']\n",
        "val_loss = history.history['val_loss']\n",
        "\n",
        "epochs = range(1, len(acc) + 1)\n",
        "\n",
        "# training and validation accuracy\n",
        "\n",
        "plt.plot(epochs, acc, 'bo', label='training acc')\n",
        "plt.plot(epochs, val_acc, 'b', label='validation acc')\n",
        "plt.title('training and validation accuracy')\n",
        "plt.legend()\n",
        "\n",
        "plt.figure()\n",
        "\n",
        "# training and validation loss\n",
        "\n",
        "plt.plot(epochs, loss, 'bo', label='training loss')\n",
        "plt.plot(epochs, val_loss, 'b', label='validation loss')\n",
        "plt.title('training and validation loss')\n",
        "plt.legend()\n",
        "\n",
        "plt.show()"
      ],
      "execution_count": 12,
      "outputs": [
        {
          "output_type": "display_data",
          "data": {
            "image/png": "[encoded data removed]",
            "text/plain": [
              "<Figure size 432x288 with 1 Axes>"
            ]
          },
          "metadata": {
            "tags": [],
            "needs_background": "light"
          }
        },
        {
          "output_type": "display_data",
          "data": {
            "image/png": "[encoded data removed]",
            "text/plain": [
              "<Figure size 432x288 with 1 Axes>"
            ]
          },
          "metadata": {
            "tags": [],
            "needs_background": "light"
          }
        }
      ]
    },
    {
      "cell_type": "markdown",
      "metadata": {
        "id": "gjGTvruUIO5W",
        "colab_type": "text"
      },
      "source": [
        "The overfitting problem presented in the VGG16 example appears to be relatively reduced. However, ResNet50 presents its own flavor of issues.\n",
        "\n",
        "While at first glance the values in the accuracy graph look almost sporadic, a closer look at the interval on the y axis actually shows that the values are very close together - so close that matplotlib had to zoom in much more than with VGG16.\n",
        "\n",
        "The numbers themselves show that my implementation ResNet50 leads to more accurate results than VGG16. However, the unusually high variability in the validation loss is troubling."
      ]
    },
    {
      "cell_type": "markdown",
      "metadata": {
        "id": "oQRtItCkIR1J",
        "colab_type": "text"
      },
      "source": [
        "## Print out validation loss and accuracy"
      ]
    },
    {
      "cell_type": "code",
      "metadata": {
        "id": "ZFhDw2VhITYp",
        "colab_type": "code",
        "colab": {}
      },
      "source": [
        "val_loss, val_acc = model.evaluate_generator(validation_generator, steps=50)"
      ],
      "execution_count": 0,
      "outputs": []
    },
    {
      "cell_type": "code",
      "metadata": {
        "id": "0QQNLc1gIUiD",
        "colab_type": "code",
        "outputId": "b541a0b8-901f-4903-88f4-9c8fc7d36d0c",
        "colab": {
          "base_uri": "https://localhost:8080/",
          "height": 54
        }
      },
      "source": [
        "print(\"Validation loss:\", val_loss)\n",
        "print(\"Validation accuracy:\", val_acc)"
      ],
      "execution_count": 14,
      "outputs": [
        {
          "output_type": "stream",
          "text": [
            "Validation loss: 0.20753124356269836\n",
            "Validation accuracy: 0.9399999976158142\n"
          ],
          "name": "stdout"
        }
      ]
    },
    {
      "cell_type": "markdown",
      "metadata": {
        "id": "dEOyXr1qIVwF",
        "colab_type": "text"
      },
      "source": [
        "## Save the model"
      ]
    },
    {
      "cell_type": "code",
      "metadata": {
        "id": "onzASfN3Ie5L",
        "colab_type": "code",
        "colab": {}
      },
      "source": [
        "model_fname = 'cats_and_dogs_small_4.h5' \n",
        "model.save(model_fname)"
      ],
      "execution_count": 0,
      "outputs": []
    },
    {
      "cell_type": "markdown",
      "metadata": {
        "id": "9Mms4QV-LjES",
        "colab_type": "text"
      },
      "source": [
        "The following block of code throws an exception for me despite being exactly copied from the code given to us - I am disregarding this as it does not affect the actual model."
      ]
    },
    {
      "cell_type": "code",
      "metadata": {
        "id": "EzhnZZtJIfst",
        "colab_type": "code",
        "outputId": "19828bfc-b65c-4117-b94a-5af006ffbec5",
        "colab": {
          "base_uri": "https://localhost:8080/",
          "height": 382
        }
      },
      "source": [
        "from google.colab import files\n",
        "\n",
        "with open(model_fname, 'r') as f:\n",
        "  files.download(model_fname)"
      ],
      "execution_count": 16,
      "outputs": [
        {
          "output_type": "error",
          "ename": "MessageError",
          "evalue": "ignored",
          "traceback": [
            "\u001b[0;31m---------------------------------------------------------------------------\u001b[0m",
            "\u001b[0;31mMessageError\u001b[0m                              Traceback (most recent call last)",
            "\u001b[0;32m<ipython-input-16-9a4221e8fa3a>\u001b[0m in \u001b[0;36m<module>\u001b[0;34m()\u001b[0m\n\u001b[1;32m      2\u001b[0m \u001b[0;34m\u001b[0m\u001b[0m\n\u001b[1;32m      3\u001b[0m \u001b[0;32mwith\u001b[0m \u001b[0mopen\u001b[0m\u001b[0;34m(\u001b[0m\u001b[0mmodel_fname\u001b[0m\u001b[0;34m,\u001b[0m \u001b[0;34m'r'\u001b[0m\u001b[0;34m)\u001b[0m \u001b[0;32mas\u001b[0m \u001b[0mf\u001b[0m\u001b[0;34m:\u001b[0m\u001b[0;34m\u001b[0m\u001b[0;34m\u001b[0m\u001b[0m\n\u001b[0;32m----> 4\u001b[0;31m   \u001b[0mfiles\u001b[0m\u001b[0;34m.\u001b[0m\u001b[0mdownload\u001b[0m\u001b[0;34m(\u001b[0m\u001b[0mmodel_fname\u001b[0m\u001b[0;34m)\u001b[0m\u001b[0;34m\u001b[0m\u001b[0;34m\u001b[0m\u001b[0m\n\u001b[0m",
            "\u001b[0;32m/usr/local/lib/python3.6/dist-packages/google/colab/files.py\u001b[0m in \u001b[0;36mdownload\u001b[0;34m(filename)\u001b[0m\n\u001b[1;32m    176\u001b[0m       \u001b[0;34m'port'\u001b[0m\u001b[0;34m:\u001b[0m \u001b[0mport\u001b[0m\u001b[0;34m,\u001b[0m\u001b[0;34m\u001b[0m\u001b[0;34m\u001b[0m\u001b[0m\n\u001b[1;32m    177\u001b[0m       \u001b[0;34m'path'\u001b[0m\u001b[0;34m:\u001b[0m \u001b[0m_os\u001b[0m\u001b[0;34m.\u001b[0m\u001b[0mpath\u001b[0m\u001b[0;34m.\u001b[0m\u001b[0mabspath\u001b[0m\u001b[0;34m(\u001b[0m\u001b[0mfilename\u001b[0m\u001b[0;34m)\u001b[0m\u001b[0;34m,\u001b[0m\u001b[0;34m\u001b[0m\u001b[0;34m\u001b[0m\u001b[0m\n\u001b[0;32m--> 178\u001b[0;31m       \u001b[0;34m'name'\u001b[0m\u001b[0;34m:\u001b[0m \u001b[0m_os\u001b[0m\u001b[0;34m.\u001b[0m\u001b[0mpath\u001b[0m\u001b[0;34m.\u001b[0m\u001b[0mbasename\u001b[0m\u001b[0;34m(\u001b[0m\u001b[0mfilename\u001b[0m\u001b[0;34m)\u001b[0m\u001b[0;34m,\u001b[0m\u001b[0;34m\u001b[0m\u001b[0;34m\u001b[0m\u001b[0m\n\u001b[0m\u001b[1;32m    179\u001b[0m   })\n",
            "\u001b[0;32m/usr/local/lib/python3.6/dist-packages/google/colab/output/_js.py\u001b[0m in \u001b[0;36meval_js\u001b[0;34m(script, ignore_result)\u001b[0m\n\u001b[1;32m     37\u001b[0m   \u001b[0;32mif\u001b[0m \u001b[0mignore_result\u001b[0m\u001b[0;34m:\u001b[0m\u001b[0;34m\u001b[0m\u001b[0;34m\u001b[0m\u001b[0m\n\u001b[1;32m     38\u001b[0m     \u001b[0;32mreturn\u001b[0m\u001b[0;34m\u001b[0m\u001b[0;34m\u001b[0m\u001b[0m\n\u001b[0;32m---> 39\u001b[0;31m   \u001b[0;32mreturn\u001b[0m \u001b[0m_message\u001b[0m\u001b[0;34m.\u001b[0m\u001b[0mread_reply_from_input\u001b[0m\u001b[0;34m(\u001b[0m\u001b[0mrequest_id\u001b[0m\u001b[0;34m)\u001b[0m\u001b[0;34m\u001b[0m\u001b[0;34m\u001b[0m\u001b[0m\n\u001b[0m\u001b[1;32m     40\u001b[0m \u001b[0;34m\u001b[0m\u001b[0m\n\u001b[1;32m     41\u001b[0m \u001b[0;34m\u001b[0m\u001b[0m\n",
            "\u001b[0;32m/usr/local/lib/python3.6/dist-packages/google/colab/_message.py\u001b[0m in \u001b[0;36mread_reply_from_input\u001b[0;34m(message_id, timeout_sec)\u001b[0m\n\u001b[1;32m    104\u001b[0m         reply.get('colab_msg_id') == message_id):\n\u001b[1;32m    105\u001b[0m       \u001b[0;32mif\u001b[0m \u001b[0;34m'error'\u001b[0m \u001b[0;32min\u001b[0m \u001b[0mreply\u001b[0m\u001b[0;34m:\u001b[0m\u001b[0;34m\u001b[0m\u001b[0;34m\u001b[0m\u001b[0m\n\u001b[0;32m--> 106\u001b[0;31m         \u001b[0;32mraise\u001b[0m \u001b[0mMessageError\u001b[0m\u001b[0;34m(\u001b[0m\u001b[0mreply\u001b[0m\u001b[0;34m[\u001b[0m\u001b[0;34m'error'\u001b[0m\u001b[0;34m]\u001b[0m\u001b[0;34m)\u001b[0m\u001b[0;34m\u001b[0m\u001b[0;34m\u001b[0m\u001b[0m\n\u001b[0m\u001b[1;32m    107\u001b[0m       \u001b[0;32mreturn\u001b[0m \u001b[0mreply\u001b[0m\u001b[0;34m.\u001b[0m\u001b[0mget\u001b[0m\u001b[0;34m(\u001b[0m\u001b[0;34m'data'\u001b[0m\u001b[0;34m,\u001b[0m \u001b[0;32mNone\u001b[0m\u001b[0;34m)\u001b[0m\u001b[0;34m\u001b[0m\u001b[0;34m\u001b[0m\u001b[0m\n\u001b[1;32m    108\u001b[0m \u001b[0;34m\u001b[0m\u001b[0m\n",
            "\u001b[0;31mMessageError\u001b[0m: TypeError: NetworkError when attempting to fetch resource."
          ]
        }
      ]
    },
    {
      "cell_type": "code",
      "metadata": {
        "id": "fAdBWMkhIgy_",
        "colab_type": "code",
        "colab": {}
      },
      "source": [
        ""
      ],
      "execution_count": 0,
      "outputs": []
    }
  ]
}