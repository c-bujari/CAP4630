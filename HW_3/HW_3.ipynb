{
  "nbformat": 4,
  "nbformat_minor": 0,
  "metadata": {
    "colab": {
      "name": "HW_3.ipynb",
      "provenance": [],
      "collapsed_sections": [],
      "authorship_tag": "ABX9TyMiMi2VYdmyz499qcpJWgdo",
      "include_colab_link": true
    },
    "kernelspec": {
      "name": "python3",
      "display_name": "Python 3"
    }
  },
  "cells": [
    {
      "cell_type": "markdown",
      "metadata": {
        "id": "view-in-github",
        "colab_type": "text"
      },
      "source": [
        "<a href=\"https://colab.research.google.com/github/c-bujari/CAP4630/blob/master/HW_3/HW_3.ipynb\" target=\"_parent\"><img src=\"https://colab.research.google.com/assets/colab-badge.svg\" alt=\"Open In Colab\"/></a>"
      ]
    },
    {
      "cell_type": "markdown",
      "metadata": {
        "id": "P8opIlCVzPbV",
        "colab_type": "text"
      },
      "source": [
        "#Homework Assignment 3\n",
        "###CAP 4630 Artificial Intelligience\n",
        "####Clyde Bujari"
      ]
    },
    {
      "cell_type": "markdown",
      "metadata": {
        "id": "Mbgx6z55zcTK",
        "colab_type": "text"
      },
      "source": [
        "## Problem 1\n",
        "Implement the function get_random_data(w, b, mu, sigma, m) that generates random data for logisitic regression with two features, x_1 and x_2. This function should return the array data of shape (m, 2) and the array labels of shape (m, 1)."
      ]
    },
    {
      "cell_type": "code",
      "metadata": {
        "id": "Vyo2ft0nAwlI",
        "colab_type": "code",
        "colab": {}
      },
      "source": [
        "import numpy as np\n",
        "%matplotlib inline\n",
        "import matplotlib as mpl\n",
        "import matplotlib.pyplot as plt"
      ],
      "execution_count": 0,
      "outputs": []
    },
    {
      "cell_type": "code",
      "metadata": {
        "id": "4b7XI765zt2i",
        "colab_type": "code",
        "colab": {}
      },
      "source": [
        "## w, b, mu, sigma are constants for statistics stuff\n",
        "## m is the number of rows of data you want.\n",
        "def get_random_data(w, b, mu, sigma, m):\n",
        "\n",
        "  ## Class labels for each entry should be either 0 or 1 \n",
        "  labels = np.random.randint(2, size=(m, 1))\n",
        "\n",
        "  ## Generate the data array\n",
        "  ## In order to create an array of the correct shape, I assigned random values to both\n",
        "  ## x_1 and x_2. This is, however, less inefficient than adding new entries to the array,\n",
        "  ## as numpy would be reallocating the memory for the array each time.\n",
        "  data = np.random.rand(m, 2)\n",
        "\n",
        "  ## Create an np array of samples from the normal distribution with mean mu and sd sigma\n",
        "  samples = np.random.default_rng().normal(mu, sigma, 1000)\n",
        "\n",
        "  ## Second feature x_2 = w * x_1 + b + (-1)^c * n\n",
        "  for data_row, label_row, n, in zip(data, labels, samples):\n",
        "    ## For some reason, python thinks that -1^c ALWAYS = -1, so I am using an if statement instead.\n",
        "    ## Original statment: data_row[1] = w * data_row[0] + b + (-1**label_row[0]) * n\n",
        "    if(label_row[0]):\n",
        "      data_row[1] = w * data_row[0] + b + -1 * n\n",
        "    else:\n",
        "      data_row[1] = w * data_row[0] + b + n\n",
        "\n",
        "  return labels, data\n"
      ],
      "execution_count": 0,
      "outputs": []
    },
    {
      "cell_type": "markdown",
      "metadata": {
        "id": "1cg-WImj1MgZ",
        "colab_type": "text"
      },
      "source": [
        "Implement the function display_random_data that takes as input the above two arrays labels and data. It should create scatter plot of the 2D points stored in data. Use red dots to plot the points whose labels are 1 and blue dots to plot the points whose labels are 0."
      ]
    },
    {
      "cell_type": "code",
      "metadata": {
        "id": "EaDBtXYh1kj5",
        "colab_type": "code",
        "colab": {}
      },
      "source": [
        "def display_random_data(labels, data):\n",
        "  for l, d in zip(labels, data):\n",
        "    if(l):\n",
        "      plt.plot(d[0], d[1], \"r.\")\n",
        "    else:\n",
        "      plt.plot(d[0], d[1], \"b.\")\n",
        "\n",
        "  plt.xlabel(\"$x_1$\", fontsize=18)\n",
        "  plt.ylabel(\"$x_2$\", rotation=0, fontsize=18)\n",
        "  plt.axis([0, 1, -15, 15])\n",
        "  plt.show()"
      ],
      "execution_count": 0,
      "outputs": []
    },
    {
      "cell_type": "code",
      "metadata": {
        "id": "I0WUMsRMcqJb",
        "colab_type": "code",
        "colab": {}
      },
      "source": [
        "## Constants used to call get_random_data\n",
        "w = 10\n",
        "b = -5\n",
        "mu = 3\n",
        "sigma = 1\n",
        "m = 100"
      ],
      "execution_count": 0,
      "outputs": []
    },
    {
      "cell_type": "code",
      "metadata": {
        "id": "pgjW3SvG6Jtk",
        "colab_type": "code",
        "outputId": "45a78377-4d93-4102-e702-f268896d378a",
        "colab": {
          "base_uri": "https://localhost:8080/",
          "height": 291
        }
      },
      "source": [
        "## Generate random data\n",
        "labels, data = get_random_data(w, b, mu, sigma, m)\n",
        "\n",
        "## Display scatter plot\n",
        "display_random_data(labels, data)"
      ],
      "execution_count": 825,
      "outputs": [
        {
          "output_type": "display_data",
          "data": {
            "image/png": "[encoded data removed]",
            "text/plain": [
              "<Figure size 432x288 with 1 Axes>"
            ]
          },
          "metadata": {
            "tags": []
          }
        }
      ]
    },
    {
      "cell_type": "markdown",
      "metadata": {
        "id": "E5U8s-Gp1XQ0",
        "colab_type": "text"
      },
      "source": [
        "Split the data/labels into a training set (80%) and a test set (20%)."
      ]
    },
    {
      "cell_type": "code",
      "metadata": {
        "id": "T_3d-p6GWctO",
        "colab_type": "code",
        "colab": {}
      },
      "source": [
        "## Scikit-learn includes a handy function to do this automatically\n",
        "from sklearn.model_selection import train_test_split\n",
        "\n",
        "## Split the data generated into a training set (80%) and a test set (20%)\n",
        "train_data, test_data, train_labels, test_labels = train_test_split(data, labels, train_size = 0.8, test_size = 0.2)"
      ],
      "execution_count": 0,
      "outputs": []
    },
    {
      "cell_type": "markdown",
      "metadata": {
        "id": "uRfGK4gxSmke",
        "colab_type": "text"
      },
      "source": [
        "##Problem 2\n",
        "Create a Keras to implement logistic regression with two features and train it with the data generated in Problem 1. The loss should be the binary cross entropy loss."
      ]
    },
    {
      "cell_type": "code",
      "metadata": {
        "id": "Pxkz1s1eSqEn",
        "colab_type": "code",
        "colab": {}
      },
      "source": [
        "%tensorflow_version 2.x\n",
        "from tensorflow.keras import models\n",
        "from tensorflow.keras import layers"
      ],
      "execution_count": 0,
      "outputs": []
    },
    {
      "cell_type": "markdown",
      "metadata": {
        "id": "CFDpZhNhuRR6",
        "colab_type": "text"
      },
      "source": [
        "Initalize the model, using binary cross entropy as the loss function as directed in instructions."
      ]
    },
    {
      "cell_type": "code",
      "metadata": {
        "id": "EbocZtCa0_eU",
        "colab_type": "code",
        "colab": {}
      },
      "source": [
        "network = models.Sequential()\n",
        "\n",
        "## As discussed in lecture + in lecture videos, relu performs better than sigmoid\n",
        "network.add(layers.Dense(train_labels.shape[1],\n",
        "                  activation='relu',\n",
        "                  input_dim=(train_data.shape[1])))\n",
        "\n",
        "network.compile(loss='binary_crossentropy',\n",
        "              optimizer='sgd',\n",
        "              metrics=['accuracy'])"
      ],
      "execution_count": 0,
      "outputs": []
    },
    {
      "cell_type": "markdown",
      "metadata": {
        "id": "clFkkbCPErzB",
        "colab_type": "text"
      },
      "source": [
        "Train the model. I chose to train for 20 epochs, anything more is unnecessary or overfits."
      ]
    },
    {
      "cell_type": "code",
      "metadata": {
        "id": "LHWU5zuiCSVK",
        "colab_type": "code",
        "outputId": "cad3d747-7a9d-4713-bccb-6644578986b8",
        "colab": {
          "base_uri": "https://localhost:8080/",
          "height": 775
        }
      },
      "source": [
        "network.fit(train_data, train_labels, epochs=20, batch_size = 8, validation_data=(test_data,test_labels), verbose=1)"
      ],
      "execution_count": 829,
      "outputs": [
        {
          "output_type": "stream",
          "text": [
            "Epoch 1/20\n",
            "10/10 [==============================] - 0s 12ms/step - loss: 10.2494 - accuracy: 0.2875 - val_loss: 11.0823 - val_accuracy: 0.1500\n",
            "Epoch 2/20\n",
            "10/10 [==============================] - 0s 4ms/step - loss: 10.2459 - accuracy: 0.3000 - val_loss: 11.0819 - val_accuracy: 0.1500\n",
            "Epoch 3/20\n",
            "10/10 [==============================] - 0s 5ms/step - loss: 10.2446 - accuracy: 0.3000 - val_loss: 11.0821 - val_accuracy: 0.1500\n",
            "Epoch 4/20\n",
            "10/10 [==============================] - 0s 4ms/step - loss: 10.2433 - accuracy: 0.3000 - val_loss: 11.0818 - val_accuracy: 0.1500\n",
            "Epoch 5/20\n",
            "10/10 [==============================] - 0s 5ms/step - loss: 10.2425 - accuracy: 0.3000 - val_loss: 11.0815 - val_accuracy: 0.1500\n",
            "Epoch 6/20\n",
            "10/10 [==============================] - 0s 4ms/step - loss: 10.2412 - accuracy: 0.3000 - val_loss: 11.0813 - val_accuracy: 0.1500\n",
            "Epoch 7/20\n",
            "10/10 [==============================] - 0s 5ms/step - loss: 10.2418 - accuracy: 0.3000 - val_loss: 11.0813 - val_accuracy: 0.1500\n",
            "Epoch 8/20\n",
            "10/10 [==============================] - 0s 5ms/step - loss: 8.8951 - accuracy: 0.3250 - val_loss: 8.1303 - val_accuracy: 0.2500\n",
            "Epoch 9/20\n",
            "10/10 [==============================] - 0s 4ms/step - loss: 4.3165 - accuracy: 0.4875 - val_loss: 0.1058 - val_accuracy: 1.0000\n",
            "Epoch 10/20\n",
            "10/10 [==============================] - 0s 5ms/step - loss: 0.5509 - accuracy: 0.8500 - val_loss: 0.1665 - val_accuracy: 1.0000\n",
            "Epoch 11/20\n",
            "10/10 [==============================] - 0s 4ms/step - loss: 0.3024 - accuracy: 0.8750 - val_loss: 0.2068 - val_accuracy: 1.0000\n",
            "Epoch 12/20\n",
            "10/10 [==============================] - 0s 6ms/step - loss: 0.2938 - accuracy: 0.8875 - val_loss: 0.1655 - val_accuracy: 1.0000\n",
            "Epoch 13/20\n",
            "10/10 [==============================] - 0s 4ms/step - loss: 0.2883 - accuracy: 0.8750 - val_loss: 0.1827 - val_accuracy: 1.0000\n",
            "Epoch 14/20\n",
            "10/10 [==============================] - 0s 5ms/step - loss: 0.2814 - accuracy: 0.8875 - val_loss: 0.2092 - val_accuracy: 1.0000\n",
            "Epoch 15/20\n",
            "10/10 [==============================] - 0s 4ms/step - loss: 0.2845 - accuracy: 0.8875 - val_loss: 0.2322 - val_accuracy: 1.0000\n",
            "Epoch 16/20\n",
            "10/10 [==============================] - 0s 5ms/step - loss: 0.2736 - accuracy: 0.9000 - val_loss: 0.1379 - val_accuracy: 1.0000\n",
            "Epoch 17/20\n",
            "10/10 [==============================] - 0s 4ms/step - loss: 0.2731 - accuracy: 0.8625 - val_loss: 0.1734 - val_accuracy: 1.0000\n",
            "Epoch 18/20\n",
            "10/10 [==============================] - 0s 4ms/step - loss: 0.2610 - accuracy: 0.8875 - val_loss: 0.1915 - val_accuracy: 1.0000\n",
            "Epoch 19/20\n",
            "10/10 [==============================] - 0s 4ms/step - loss: 0.2634 - accuracy: 0.8875 - val_loss: 0.1692 - val_accuracy: 1.0000\n",
            "Epoch 20/20\n",
            "10/10 [==============================] - 0s 4ms/step - loss: 0.2621 - accuracy: 0.9125 - val_loss: 0.1637 - val_accuracy: 1.0000\n"
          ],
          "name": "stdout"
        },
        {
          "output_type": "execute_result",
          "data": {
            "text/plain": [
              "<tensorflow.python.keras.callbacks.History at 0x7f4e00e72978>"
            ]
          },
          "metadata": {
            "tags": []
          },
          "execution_count": 829
        }
      ]
    },
    {
      "cell_type": "code",
      "metadata": {
        "id": "0gUhu0CQCmlb",
        "colab_type": "code",
        "outputId": "a9b69cfb-7af8-4e6f-d358-f7c4ed80debf",
        "colab": {
          "base_uri": "https://localhost:8080/",
          "height": 35
        }
      },
      "source": [
        "#test_loss, test_acc = network.evaluate(test_data, test_labels)\n",
        "\n",
        "accuracy, loss = network.evaluate(test_data, test_labels, verbose=2)"
      ],
      "execution_count": 830,
      "outputs": [
        {
          "output_type": "stream",
          "text": [
            "1/1 - 0s - loss: 0.1804 - accuracy: 1.0000\n"
          ],
          "name": "stdout"
        }
      ]
    },
    {
      "cell_type": "markdown",
      "metadata": {
        "id": "36-6KzagxxNY",
        "colab_type": "text"
      },
      "source": [
        "Function for plotting results"
      ]
    },
    {
      "cell_type": "code",
      "metadata": {
        "id": "mJiWFB5ScEQK",
        "colab_type": "code",
        "colab": {}
      },
      "source": [
        "def display_all_data(labels, data, w, b):\n",
        "  ## Start by displaying the original scatter plot\n",
        "  for l, d in zip(labels, data):\n",
        "    if(l):\n",
        "      plt.plot(d[0], d[1], \"r.\")\n",
        "    else:\n",
        "      plt.plot(d[0], d[1], \"b.\")\n",
        "\n",
        "  ## Create an array of values from 0.0 - 1.0 to use when constructing lines\n",
        "  x = np.array(np.arange(0, 1.1, 0.1))\n",
        "\n",
        "  ## Display the expected line\n",
        "  y = w * x + b\n",
        "  plt.plot(x, y, 'c')  \n",
        "\n",
        "  ## Extract weights and biases from the network\n",
        "  w = network.layers[0].get_weights()[0]\n",
        "  b = network.layers[0].get_weights()[1]\n",
        "\n",
        "  ## Display the model's derived line (This does not appear fully correct, can't\n",
        "  ## tell if that's an issue with my model or my formula)\n",
        "  ## Since w1 x1 + w2 x2 + b = 0, x_2 = -(w1 * x1 + b) / w2 \n",
        "  y = -1 * (w[0] * x + b) / w[1]\n",
        "  plt.plot(x, y, 'm')\n",
        "\n",
        "  plt.xlabel(\"$x_1$\", fontsize=18)\n",
        "  plt.ylabel(\"$x_2$\", rotation=0, fontsize=18)\n",
        "  plt.axis([0, 1, -15, 15])\n",
        "  plt.show()"
      ],
      "execution_count": 0,
      "outputs": []
    },
    {
      "cell_type": "markdown",
      "metadata": {
        "id": "hzva0pKqx6Jm",
        "colab_type": "text"
      },
      "source": [
        "Displays original scatter plot of the random data, as well as the true,\n",
        "expected line dividing this data (in blue) and the line keras derived (in magenta).\n",
        "\n",
        "The derived line is generally quite a bit off from where it should be, indicating that something in my model setup is incorrect, but frankly I was not able to find many resources actually helping me self-teach meaningfully *modeling* logistic regression in Keras."
      ]
    },
    {
      "cell_type": "code",
      "metadata": {
        "id": "kUF8Piqpdgmn",
        "colab_type": "code",
        "outputId": "631bce7d-946d-4ce8-c754-a3c28276e9f6",
        "colab": {
          "base_uri": "https://localhost:8080/",
          "height": 291
        }
      },
      "source": [
        "display_all_data(labels, data, w, b)"
      ],
      "execution_count": 832,
      "outputs": [
        {
          "output_type": "display_data",
          "data": {
            "image/png": "[encoded data removed]",
            "text/plain": [
              "<Figure size 432x288 with 1 Axes>"
            ]
          },
          "metadata": {
            "tags": []
          }
        }
      ]
    },
    {
      "cell_type": "markdown",
      "metadata": {
        "id": "tioeZClUZC8d",
        "colab_type": "text"
      },
      "source": [
        "Print a heatmap of the function (Was not able to do this correctly, ran out of time to get my arrays in a form where they could be heatmapped)"
      ]
    },
    {
      "cell_type": "code",
      "metadata": {
        "id": "t-FnaFUE78-p",
        "colab_type": "code",
        "colab": {}
      },
      "source": [
        "#import seaborn as sns\n",
        "#import random\n",
        "\n",
        "#heat_input = np.linspace((0,0),(1,1),100)\n",
        "#print(heat_input)\n",
        "\n",
        "#heat_output = np.empty((100, 100))\n",
        "\n",
        "#heat_output = network.predict(heat_input)\n",
        "\n",
        "#single_output = network.predict(3, 4)\n",
        "\n",
        "#print(heat_output.shape)\n",
        "#print(heat_output)\n",
        "\n",
        "#mappable_array = np.empty((100, 100))\n",
        "\n",
        "#for x in range(99):\n",
        "  #for y in range(99):\n",
        "    #mappable_array[x][y] = \n",
        "\n",
        "\n",
        "#plt.imshow(heat_output, cmap='hot', interpolation='nearest')\n",
        "#plt.show()\n",
        "\n",
        "#ax = sns.heatmap(heat_array, linewidth=0.01)\n",
        "#plt.show()"
      ],
      "execution_count": 0,
      "outputs": []
    },
    {
      "cell_type": "markdown",
      "metadata": {
        "id": "i8KbbJ7vS0Ts",
        "colab_type": "text"
      },
      "source": [
        "# Problem 3 ~~ ***UNFINISHED***\n",
        "Use numpy to implement a logistic regression model from scratch and train it with the data generated as in Problem 1."
      ]
    },
    {
      "cell_type": "markdown",
      "metadata": {
        "id": "UXUVbw-ooywf",
        "colab_type": "text"
      },
      "source": [
        "The following expression is the output of the neuron when given a feature vector $x=(x_1,\\ldots,x_n)^T\\in R^n$, represented in this code as the data numpy array, as input.\n",
        "\n",
        "\\begin{equation}\n",
        "\\hat{y} = a\\left( \\sum_{j=1}^n w_j x_j + b \\right)\n",
        "\\end{equation}\n"
      ]
    },
    {
      "cell_type": "code",
      "metadata": {
        "id": "QcEU90mWS6pm",
        "colab_type": "code",
        "colab": {}
      },
      "source": [
        "## Begin with the sum\n"
      ],
      "execution_count": 0,
      "outputs": []
    },
    {
      "cell_type": "markdown",
      "metadata": {
        "id": "rPXqWtg7rLmL",
        "colab_type": "text"
      },
      "source": [
        "Performing gradient descent - this is pulled directly from [linear_regression_gradient_descent.ipynb](https://colab.research.google.com/drive/1qBxfTPoNcSFvpwu1NDl1V6cHEqL3aQl-#scrollTo=QwrdvAfuiRaf), I was not able to make any changes or adjustments to it because I ran out of time, but I wanted to show where I would have started."
      ]
    },
    {
      "cell_type": "code",
      "metadata": {
        "id": "Wknwnzw3rrv7",
        "colab_type": "code",
        "colab": {}
      },
      "source": [
        "# number of epochs\n",
        "epochs = 20\n",
        "# learning rate\n",
        "lr = 0.01\n",
        "# fix initial random weight for gradient descent\n",
        "initial_weight = np.random.randn(2, 1)"
      ],
      "execution_count": 0,
      "outputs": []
    },
    {
      "cell_type": "code",
      "metadata": {
        "id": "WwJUbkC0nHU2",
        "colab_type": "code",
        "colab": {
          "base_uri": "https://localhost:8080/",
          "height": 247
        },
        "outputId": "3954816a-e265-4a4a-839c-069d2391c312"
      },
      "source": [
        "weight = initial_weight\n",
        "weight_path_sgd = []\n",
        "\n",
        "# plot training data\n",
        "plt.plot(data, y, \"b.\")\n",
        "# plot initial prediction\n",
        "y_predict = X_new_b.dot(weight)                    \n",
        "plt.plot(X_new, y_predict, \"r--\")\n",
        "\n",
        "weight_path_sgd.append(weight)\n",
        "for epoch in range(epochs):\n",
        "    shuffled_indices = np.random.permutation(m)\n",
        "    X_b_shuffled = X_b[shuffled_indices]\n",
        "    y_shuffled = y[shuffled_indices]\n",
        "    \n",
        "    for i in range(m):\n",
        "        xi = X_b_shuffled[i:i+1]\n",
        "        yi = y_shuffled[i:i+1]\n",
        "        gradient = xi.T.dot(xi.dot(weight) - yi)\n",
        "        weight = weight - lr * gradient\n",
        "        weight_path_sgd.append(weight)\n",
        "        \n",
        "        y_predict = X_new_b.dot(weight)                    \n",
        "        plt.plot(X_new, y_predict, \"b-\")        \n",
        "    \n",
        "plt.xlabel(\"$x_1$\", fontsize=18)                     \n",
        "plt.ylabel(\"$y$\", rotation=0, fontsize=18)           \n",
        "plt.axis([0, 2, 0, 15])                                              \n",
        "plt.show()     "
      ],
      "execution_count": 634,
      "outputs": [
        {
          "output_type": "error",
          "ename": "NameError",
          "evalue": "ignored",
          "traceback": [
            "\u001b[0;31m---------------------------------------------------------------------------\u001b[0m",
            "\u001b[0;31mNameError\u001b[0m                                 Traceback (most recent call last)",
            "\u001b[0;32m<ipython-input-634-00ad2a1f066b>\u001b[0m in \u001b[0;36m<module>\u001b[0;34m()\u001b[0m\n\u001b[1;32m      3\u001b[0m \u001b[0;34m\u001b[0m\u001b[0m\n\u001b[1;32m      4\u001b[0m \u001b[0;31m# plot training data\u001b[0m\u001b[0;34m\u001b[0m\u001b[0;34m\u001b[0m\u001b[0;34m\u001b[0m\u001b[0m\n\u001b[0;32m----> 5\u001b[0;31m \u001b[0mplt\u001b[0m\u001b[0;34m.\u001b[0m\u001b[0mplot\u001b[0m\u001b[0;34m(\u001b[0m\u001b[0mX\u001b[0m\u001b[0;34m,\u001b[0m \u001b[0my\u001b[0m\u001b[0;34m,\u001b[0m \u001b[0;34m\"b.\"\u001b[0m\u001b[0;34m)\u001b[0m\u001b[0;34m\u001b[0m\u001b[0;34m\u001b[0m\u001b[0m\n\u001b[0m\u001b[1;32m      6\u001b[0m \u001b[0;31m# plot initial prediction\u001b[0m\u001b[0;34m\u001b[0m\u001b[0;34m\u001b[0m\u001b[0;34m\u001b[0m\u001b[0m\n\u001b[1;32m      7\u001b[0m \u001b[0my_predict\u001b[0m \u001b[0;34m=\u001b[0m \u001b[0mX_new_b\u001b[0m\u001b[0;34m.\u001b[0m\u001b[0mdot\u001b[0m\u001b[0;34m(\u001b[0m\u001b[0mweight\u001b[0m\u001b[0;34m)\u001b[0m\u001b[0;34m\u001b[0m\u001b[0;34m\u001b[0m\u001b[0m\n",
            "\u001b[0;31mNameError\u001b[0m: name 'X' is not defined"
          ]
        }
      ]
    }
  ]
}