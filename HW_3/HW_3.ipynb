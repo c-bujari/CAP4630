{
  "nbformat": 4,
  "nbformat_minor": 0,
  "metadata": {
    "colab": {
      "name": "HW_3.ipynb",
      "provenance": [],
      "collapsed_sections": [],
      "authorship_tag": "ABX9TyPP8t26hJoMi/heZY3dvvws",
      "include_colab_link": true
    },
    "kernelspec": {
      "name": "python3",
      "display_name": "Python 3"
    }
  },
  "cells": [
    {
      "cell_type": "markdown",
      "metadata": {
        "id": "view-in-github",
        "colab_type": "text"
      },
      "source": [
        "<a href=\"https://colab.research.google.com/github/c-bujari/CAP4630/blob/master/HW_3/HW_3.ipynb\" target=\"_parent\"><img src=\"https://colab.research.google.com/assets/colab-badge.svg\" alt=\"Open In Colab\"/></a>"
      ]
    },
    {
      "cell_type": "markdown",
      "metadata": {
        "id": "P8opIlCVzPbV",
        "colab_type": "text"
      },
      "source": [
        "#Homework Assignment 3\n",
        "###CAP 4630 Artificial Intelligience\n",
        "####Clyde Bujari"
      ]
    },
    {
      "cell_type": "markdown",
      "metadata": {
        "id": "Mbgx6z55zcTK",
        "colab_type": "text"
      },
      "source": [
        "## Problem 1\n",
        "Implement the function get_random_data(w, b, mu, sigma, m) that generates random data for logisitic regression with two features, x_1 and x_2. This function should return the array data of shape (m, 2) and the array labels of shape (m, 1)."
      ]
    },
    {
      "cell_type": "code",
      "metadata": {
        "id": "Vyo2ft0nAwlI",
        "colab_type": "code",
        "colab": {}
      },
      "source": [
        "import numpy as np\n",
        "%matplotlib inline\n",
        "import matplotlib as mpl\n",
        "import matplotlib.pyplot as plt"
      ],
      "execution_count": 0,
      "outputs": []
    },
    {
      "cell_type": "code",
      "metadata": {
        "id": "4b7XI765zt2i",
        "colab_type": "code",
        "colab": {}
      },
      "source": [
        "## w, b, mu, sigma are constants for statistics stuff\n",
        "## m is the number of rows of data you want.\n",
        "def get_random_data(w, b, mu, sigma, m):\n",
        "\n",
        "  ## Class labels for each entry should be either 0 or 1 \n",
        "  labels = np.random.randint(2, size=(m, 1))\n",
        "\n",
        "  ## Generate the data array\n",
        "  ## In order to create an array of the correct shape, I assigned random values to both\n",
        "  ## x_1 and x_2. This is, however, less inefficient than adding new entries to the array,\n",
        "  ## as numpy would be reallocating the memory for the array each time.\n",
        "  data = np.random.rand(m, 2)\n",
        "\n",
        "  ## Create an np array of samples from the normal distribution with mean mu and sd sigma\n",
        "  samples = np.random.default_rng().normal(mu, sigma, 1000)\n",
        "\n",
        "  ## Second feature x_2 = w * x_1 + b + (-1)^c * n\n",
        "  for data_row, label_row, n, in zip(data, labels, samples):\n",
        "    ## For some reason, python thinks that -1^c ALWAYS = -1, so I am using an if statement instead.\n",
        "    ## Original statment: data_row[1] = w * data_row[0] + b + (-1**label_row[0]) * n\n",
        "    if(label_row[0]):\n",
        "      data_row[1] = w * data_row[0] + b + -1 * n\n",
        "    else:\n",
        "      data_row[1] = w * data_row[0] + b + n\n",
        "\n",
        "  return labels, data\n"
      ],
      "execution_count": 0,
      "outputs": []
    },
    {
      "cell_type": "markdown",
      "metadata": {
        "id": "1cg-WImj1MgZ",
        "colab_type": "text"
      },
      "source": [
        "Implement the function display_random_data that takes as input the above two arrays labels and data. It should create scatter plot of the 2D points stored in data. Use red dots to plot the points whose labels are 1 and blue dots to plot the points whose labels are 0."
      ]
    },
    {
      "cell_type": "code",
      "metadata": {
        "id": "EaDBtXYh1kj5",
        "colab_type": "code",
        "colab": {}
      },
      "source": [
        "def display_random_data(labels, data):\n",
        "  for l, d in zip(labels, data):\n",
        "    if(l):\n",
        "      plt.plot(d[0], d[1], \"r.\")\n",
        "    else:\n",
        "      plt.plot(d[0], d[1], \"b.\")\n",
        "\n",
        "  plt.xlabel(\"$x_1$\", fontsize=18)\n",
        "  plt.ylabel(\"$x_2$\", rotation=0, fontsize=18)\n",
        "  plt.axis([0, 1, -15, 15])\n",
        "  plt.show()"
      ],
      "execution_count": 0,
      "outputs": []
    },
    {
      "cell_type": "code",
      "metadata": {
        "id": "I0WUMsRMcqJb",
        "colab_type": "code",
        "colab": {}
      },
      "source": [
        "## Constants used to call get_random_data\n",
        "w = 10\n",
        "b = -5\n",
        "mu = 3\n",
        "sigma = 1\n",
        "m = 100"
      ],
      "execution_count": 0,
      "outputs": []
    },
    {
      "cell_type": "code",
      "metadata": {
        "id": "pgjW3SvG6Jtk",
        "colab_type": "code",
        "outputId": "2fc205ea-b907-4c76-9838-2ca42940d63a",
        "colab": {
          "base_uri": "https://localhost:8080/",
          "height": 291
        }
      },
      "source": [
        "## Generate random data\n",
        "labels, data = get_random_data(w, b, mu, sigma, m)\n",
        "\n",
        "## Display scatter plot\n",
        "display_random_data(labels, data)"
      ],
      "execution_count": 81,
      "outputs": [
        {
          "output_type": "display_data",
          "data": {
            "image/png": "[encoded data removed]",
            "text/plain": [
              "<Figure size 432x288 with 1 Axes>"
            ]
          },
          "metadata": {
            "tags": []
          }
        }
      ]
    },
    {
      "cell_type": "markdown",
      "metadata": {
        "id": "E5U8s-Gp1XQ0",
        "colab_type": "text"
      },
      "source": [
        "Split the data/labels into a training set (80%) and a test set (20%)."
      ]
    },
    {
      "cell_type": "code",
      "metadata": {
        "id": "T_3d-p6GWctO",
        "colab_type": "code",
        "colab": {}
      },
      "source": [
        "## Scikit-learn includes a handy function to do this automatically\n",
        "from sklearn.model_selection import train_test_split\n",
        "\n",
        "## Split the data generated into a training set (80%) and a test set (20%)\n",
        "train_data, test_data, train_labels, test_labels = train_test_split(data, labels, train_size = 0.8, test_size = 0.2)"
      ],
      "execution_count": 0,
      "outputs": []
    },
    {
      "cell_type": "markdown",
      "metadata": {
        "id": "uRfGK4gxSmke",
        "colab_type": "text"
      },
      "source": [
        "##Problem 2 ~~ Finished, but with mistakes.\n",
        "Create a Keras to implement logistic regression with two features and train it with the data generated in Problem 1. The loss should be the binary cross entropy loss."
      ]
    },
    {
      "cell_type": "code",
      "metadata": {
        "id": "Pxkz1s1eSqEn",
        "colab_type": "code",
        "colab": {}
      },
      "source": [
        "%tensorflow_version 2.x\n",
        "from tensorflow.keras import models\n",
        "from tensorflow.keras import layers"
      ],
      "execution_count": 0,
      "outputs": []
    },
    {
      "cell_type": "markdown",
      "metadata": {
        "id": "CFDpZhNhuRR6",
        "colab_type": "text"
      },
      "source": [
        "Initalize the model, using binary cross entropy as the loss function as directed in instructions."
      ]
    },
    {
      "cell_type": "code",
      "metadata": {
        "id": "EbocZtCa0_eU",
        "colab_type": "code",
        "colab": {}
      },
      "source": [
        "##network = models.Sequential([\n",
        "##  layers.Dense(4, activation='relu', input_shape=(2,)),\n",
        "##  layers.Dense(1, activation='relu')\n",
        "##])\n",
        "\n",
        "network = models.Sequential()\n",
        "network.add(layers.Dense(train_labels.shape[1],\n",
        "                  activation='sigmoid',\n",
        "                  input_dim=(train_data.shape[1])))\n",
        "\n",
        "network.compile(loss='binary_crossentropy',\n",
        "              optimizer='sgd',\n",
        "              metrics=['accuracy'])"
      ],
      "execution_count": 0,
      "outputs": []
    },
    {
      "cell_type": "code",
      "metadata": {
        "id": "LHWU5zuiCSVK",
        "colab_type": "code",
        "outputId": "82bbac50-3e24-4d61-a2fb-80583a63d830",
        "colab": {
          "base_uri": "https://localhost:8080/",
          "height": 775
        }
      },
      "source": [
        "network.fit(train_data, train_labels, epochs=20, batch_size = 8, validation_data=(test_data,test_labels), verbose=1)"
      ],
      "execution_count": 85,
      "outputs": [
        {
          "output_type": "stream",
          "text": [
            "Epoch 1/20\n",
            "10/10 [==============================] - 0s 11ms/step - loss: 2.8920 - accuracy: 0.2125 - val_loss: 2.3889 - val_accuracy: 0.0500\n",
            "Epoch 2/20\n",
            "10/10 [==============================] - 0s 5ms/step - loss: 2.0139 - accuracy: 0.2250 - val_loss: 1.5673 - val_accuracy: 0.0500\n",
            "Epoch 3/20\n",
            "10/10 [==============================] - 0s 5ms/step - loss: 1.2714 - accuracy: 0.2625 - val_loss: 0.9576 - val_accuracy: 0.1500\n",
            "Epoch 4/20\n",
            "10/10 [==============================] - 0s 4ms/step - loss: 0.7972 - accuracy: 0.4375 - val_loss: 0.6375 - val_accuracy: 0.5000\n",
            "Epoch 5/20\n",
            "10/10 [==============================] - 0s 5ms/step - loss: 0.5798 - accuracy: 0.6625 - val_loss: 0.4936 - val_accuracy: 0.8500\n",
            "Epoch 6/20\n",
            "10/10 [==============================] - 0s 5ms/step - loss: 0.4880 - accuracy: 0.8250 - val_loss: 0.4220 - val_accuracy: 0.8500\n",
            "Epoch 7/20\n",
            "10/10 [==============================] - 0s 4ms/step - loss: 0.4430 - accuracy: 0.8375 - val_loss: 0.3793 - val_accuracy: 0.9500\n",
            "Epoch 8/20\n",
            "10/10 [==============================] - 0s 4ms/step - loss: 0.4175 - accuracy: 0.8500 - val_loss: 0.3516 - val_accuracy: 0.9500\n",
            "Epoch 9/20\n",
            "10/10 [==============================] - 0s 5ms/step - loss: 0.4019 - accuracy: 0.8375 - val_loss: 0.3320 - val_accuracy: 0.9500\n",
            "Epoch 10/20\n",
            "10/10 [==============================] - 0s 5ms/step - loss: 0.3916 - accuracy: 0.8250 - val_loss: 0.3170 - val_accuracy: 0.9500\n",
            "Epoch 11/20\n",
            "10/10 [==============================] - 0s 5ms/step - loss: 0.3839 - accuracy: 0.8250 - val_loss: 0.3051 - val_accuracy: 0.9500\n",
            "Epoch 12/20\n",
            "10/10 [==============================] - 0s 6ms/step - loss: 0.3784 - accuracy: 0.8375 - val_loss: 0.2958 - val_accuracy: 1.0000\n",
            "Epoch 13/20\n",
            "10/10 [==============================] - 0s 5ms/step - loss: 0.3740 - accuracy: 0.8375 - val_loss: 0.2879 - val_accuracy: 1.0000\n",
            "Epoch 14/20\n",
            "10/10 [==============================] - 0s 5ms/step - loss: 0.3708 - accuracy: 0.8250 - val_loss: 0.2812 - val_accuracy: 1.0000\n",
            "Epoch 15/20\n",
            "10/10 [==============================] - 0s 5ms/step - loss: 0.3680 - accuracy: 0.8250 - val_loss: 0.2757 - val_accuracy: 1.0000\n",
            "Epoch 16/20\n",
            "10/10 [==============================] - 0s 5ms/step - loss: 0.3655 - accuracy: 0.8250 - val_loss: 0.2708 - val_accuracy: 1.0000\n",
            "Epoch 17/20\n",
            "10/10 [==============================] - 0s 5ms/step - loss: 0.3636 - accuracy: 0.8250 - val_loss: 0.2666 - val_accuracy: 1.0000\n",
            "Epoch 18/20\n",
            "10/10 [==============================] - 0s 4ms/step - loss: 0.3622 - accuracy: 0.8250 - val_loss: 0.2628 - val_accuracy: 1.0000\n",
            "Epoch 19/20\n",
            "10/10 [==============================] - 0s 5ms/step - loss: 0.3605 - accuracy: 0.8250 - val_loss: 0.2593 - val_accuracy: 1.0000\n",
            "Epoch 20/20\n",
            "10/10 [==============================] - 0s 5ms/step - loss: 0.3592 - accuracy: 0.8250 - val_loss: 0.2563 - val_accuracy: 1.0000\n"
          ],
          "name": "stdout"
        },
        {
          "output_type": "execute_result",
          "data": {
            "text/plain": [
              "<tensorflow.python.keras.callbacks.History at 0x7f7d48deda20>"
            ]
          },
          "metadata": {
            "tags": []
          },
          "execution_count": 85
        }
      ]
    },
    {
      "cell_type": "code",
      "metadata": {
        "id": "0gUhu0CQCmlb",
        "colab_type": "code",
        "outputId": "7cee9cda-0e9e-4a49-fe09-785b995ed2d1",
        "colab": {
          "base_uri": "https://localhost:8080/",
          "height": 35
        }
      },
      "source": [
        "#test_loss, test_acc = network.evaluate(test_data, test_labels)\n",
        "\n",
        "accuracy, loss = network.evaluate(test_data, test_labels, verbose=2)"
      ],
      "execution_count": 86,
      "outputs": [
        {
          "output_type": "stream",
          "text": [
            "1/1 - 0s - loss: 0.2589 - accuracy: 1.0000\n"
          ],
          "name": "stdout"
        }
      ]
    },
    {
      "cell_type": "markdown",
      "metadata": {
        "id": "36-6KzagxxNY",
        "colab_type": "text"
      },
      "source": [
        "Function for plotting results"
      ]
    },
    {
      "cell_type": "code",
      "metadata": {
        "id": "mJiWFB5ScEQK",
        "colab_type": "code",
        "colab": {}
      },
      "source": [
        "def display_all_data(labels, data, w, b):\n",
        "  ## Start by displaying the original scatter plot\n",
        "  for l, d in zip(labels, data):\n",
        "    if(l):\n",
        "      plt.plot(d[0], d[1], \"r.\")\n",
        "    else:\n",
        "      plt.plot(d[0], d[1], \"b.\")\n",
        "\n",
        "  ## Display the expected line\n",
        "  x = np.array(np.arange(0, 1.1, 0.1))\n",
        "  def true_line_formula(x):\n",
        "    return w * x + b\n",
        "  y = true_line_formula(x)\n",
        "\n",
        "  plt.plot(x, y, 'c')  \n",
        "\n",
        "  weights = network.layers[0].get_weights()[0]\n",
        "  bias = network.layers[0].get_weights()[1]\n",
        "\n",
        "  ## Since w1 x1 + w2 x2 + b = 0, x_2 = -(w1 * x1 + b) / w2 \n",
        "  #x_2 = -1 * (weights[0] * data[0] + bias) / weights[1]\n",
        "\n",
        "  x_2 = data\n",
        "\n",
        "  def model_line_formula(x, w, b):\n",
        "    return -1 * (w[0] * x + b) / w[1]\n",
        "  y = model_line_formula(x, weights, bias)\n",
        "\n",
        "  plt.plot(x, y, 'm')\n",
        "\n",
        "  plt.xlabel(\"$x_1$\", fontsize=18)\n",
        "  plt.ylabel(\"$x_2$\", rotation=0, fontsize=18)\n",
        "  plt.axis([0, 1, -15, 15])\n",
        "  plt.show()"
      ],
      "execution_count": 0,
      "outputs": []
    },
    {
      "cell_type": "markdown",
      "metadata": {
        "id": "hzva0pKqx6Jm",
        "colab_type": "text"
      },
      "source": [
        "Displays original scatter plot of the random data, as well as the true,\n",
        "expected line dividing this data (in blue) and the line keras derived (in magenta).\n",
        "\n",
        "The plot below shows that either my implementation of the model or my method of plotting is clearly flawed."
      ]
    },
    {
      "cell_type": "code",
      "metadata": {
        "id": "kUF8Piqpdgmn",
        "colab_type": "code",
        "colab": {
          "base_uri": "https://localhost:8080/",
          "height": 291
        },
        "outputId": "8e821562-d018-478c-dcf7-2e00e15bdd4f"
      },
      "source": [
        "\n",
        "display_all_data(labels, data, w, b)"
      ],
      "execution_count": 94,
      "outputs": [
        {
          "output_type": "display_data",
          "data": {
            "image/png": "[encoded data removed]",
            "text/plain": [
              "<Figure size 432x288 with 1 Axes>"
            ]
          },
          "metadata": {
            "tags": []
          }
        }
      ]
    },
    {
      "cell_type": "markdown",
      "metadata": {
        "id": "i8KbbJ7vS0Ts",
        "colab_type": "text"
      },
      "source": [
        "# Problem 3 ~~ ***UNFINISHED***\n",
        "Use numpy to implement a logistic regression model from scratch and train it with the data generated as in Problem 1."
      ]
    },
    {
      "cell_type": "markdown",
      "metadata": {
        "id": "UXUVbw-ooywf",
        "colab_type": "text"
      },
      "source": [
        "The following expression is the output of the neuron when given a feature vector $x=(x_1,\\ldots,x_n)^T\\in R^n$, represented in this code as the data numpy array, as input.\n",
        "\n",
        "\\begin{equation}\n",
        "\\hat{y} = a\\left( \\sum_{j=1}^n w_j x_j + b \\right)\n",
        "\\end{equation}\n"
      ]
    },
    {
      "cell_type": "code",
      "metadata": {
        "id": "QcEU90mWS6pm",
        "colab_type": "code",
        "colab": {}
      },
      "source": [
        "## Begin with the sum\n"
      ],
      "execution_count": 0,
      "outputs": []
    },
    {
      "cell_type": "markdown",
      "metadata": {
        "id": "rPXqWtg7rLmL",
        "colab_type": "text"
      },
      "source": [
        "Performing gradient descent - this is pulled directly from [linear_regression_gradient_descent.ipynb](https://colab.research.google.com/drive/1qBxfTPoNcSFvpwu1NDl1V6cHEqL3aQl-#scrollTo=QwrdvAfuiRaf), I was not able to make any changes or adjustments to it because I ran out of time, but I wanted to show where I would have started."
      ]
    },
    {
      "cell_type": "code",
      "metadata": {
        "id": "Wknwnzw3rrv7",
        "colab_type": "code",
        "colab": {}
      },
      "source": [
        "# number of epochs\n",
        "epochs = 20\n",
        "# learning rate\n",
        "lr = 0.01\n",
        "# fix initial random weight for gradient descent\n",
        "initial_weight = np.random.randn(2, 1) "
      ],
      "execution_count": 0,
      "outputs": []
    },
    {
      "cell_type": "code",
      "metadata": {
        "id": "WwJUbkC0nHU2",
        "colab_type": "code",
        "colab": {}
      },
      "source": [
        "weight = initial_weight\n",
        "weight_path_sgd = []\n",
        "\n",
        "# plot training data\n",
        "plt.plot(X, y, \"b.\")\n",
        "# plot initial prediction\n",
        "y_predict = X_new_b.dot(weight)                    \n",
        "plt.plot(X_new, y_predict, \"r--\")        \n",
        "\n",
        "weight_path_sgd.append(weight)\n",
        "for epoch in range(epochs):\n",
        "    shuffled_indices = np.random.permutation(m)\n",
        "    X_b_shuffled = X_b[shuffled_indices]\n",
        "    y_shuffled = y[shuffled_indices]\n",
        "    \n",
        "    for i in range(m):           \n",
        "        xi = X_b_shuffled[i:i+1]\n",
        "        yi = y_shuffled[i:i+1]\n",
        "        gradient = xi.T.dot(xi.dot(weight) - yi)\n",
        "        weight = weight - lr * gradient\n",
        "        weight_path_sgd.append(weight)\n",
        "        \n",
        "        y_predict = X_new_b.dot(weight)                    \n",
        "        plt.plot(X_new, y_predict, \"b-\")        \n",
        "    \n",
        "plt.xlabel(\"$x_1$\", fontsize=18)                     \n",
        "plt.ylabel(\"$y$\", rotation=0, fontsize=18)           \n",
        "plt.axis([0, 2, 0, 15])                                              \n",
        "plt.show()     "
      ],
      "execution_count": 0,
      "outputs": []
    }
  ]
}