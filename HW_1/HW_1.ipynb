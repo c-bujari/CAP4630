{
  "nbformat": 4,
  "nbformat_minor": 0,
  "metadata": {
    "colab": {
      "name": "HW_1.ipynb",
      "provenance": [],
      "collapsed_sections": [],
      "authorship_tag": "ABX9TyMJjvI8DgvOSqBzQiWh70nm",
      "include_colab_link": true
    },
    "kernelspec": {
      "name": "python3",
      "display_name": "Python 3"
    }
  },
  "cells": [
    {
      "cell_type": "markdown",
      "metadata": {
        "id": "view-in-github",
        "colab_type": "text"
      },
      "source": [
        "<a href=\"https://colab.research.google.com/github/c-bujari/CAP4630/blob/master/HW_1/HW_1.ipynb\" target=\"_parent\"><img src=\"https://colab.research.google.com/assets/colab-badge.svg\" alt=\"Open In Colab\"/></a>"
      ]
    },
    {
      "cell_type": "markdown",
      "metadata": {
        "id": "bH6E3DLSawxX",
        "colab_type": "text"
      },
      "source": [
        "# Homework Assignment 1\n",
        "### CAP 4630 Artificial Intelligience\n"
      ]
    },
    {
      "cell_type": "markdown",
      "metadata": {
        "colab_type": "text",
        "id": "jGo8a-uuHjSa"
      },
      "source": [
        "## Problem 2\n",
        "If $A$ is a $m \\times n$ matrix and $B$ is a $n \\times p$ matrix such that\n",
        "\n",
        "$\\begin{equation*}\n",
        "  A_{m,n} =\n",
        "    \\begin{bmatrix}\n",
        "      a_{1,1} & a_{1,2} & \\dots & a_{1,n} \\\\\n",
        "      a_{2,1} & a_{2,2} & \\dots & a_{2,n} \\\\\n",
        "      \\vdots & \\vdots & \\ddots & \\vdots \\\\\n",
        "      a_{m,1} & a_{m,2} & \\dots & a_{m,n}\n",
        "    \\end{bmatrix}\n",
        "\\end{equation*}$ and $\\begin{equation*}\n",
        "  B_{n,p} =\n",
        "    \\begin{bmatrix}\n",
        "      b_{1,1} & b_{1,2} & \\dots & b_{1,p} \\\\\n",
        "      b_{2,1} & b_{2,2} & \\dots & b_{2,p} \\\\\n",
        "      \\vdots & \\vdots & \\ddots & \\vdots \\\\\n",
        "      b_{n,1} & b_{n,2} & \\dots & b_{n,p}\n",
        "    \\end{bmatrix}\n",
        "\\end{equation*}$\n",
        "\n",
        "the product $C$ = $A \\times B$ of these two matrices is the $m \\times p$ matrix:\n",
        "\n",
        "$\\begin{equation*}\n",
        "  C_{m,p} =\n",
        "    \\begin{bmatrix}\n",
        "      c_{1,1} & c_{1,2} & \\dots & c_{1,p} \\\\\n",
        "      c_{2,1} & c_{2,2} & \\dots & c_{2,p} \\\\\n",
        "      \\vdots & \\vdots & \\ddots & \\vdots \\\\\n",
        "      c_{m,1} & c_{m,2} & \\dots & c_{m,p}\n",
        "    \\end{bmatrix}\n",
        "\\end{equation*}$\n",
        "\n",
        "A pair of matrices which does not follow these guidelines (for example, if $D$ = $m \\times n$ and $E$ = $p \\times q$, where $n \\neq p$) cannot be multiplied. For the purposes of this assignment, such a pair is considered ***incompatible***.\n",
        "\n",
        "      \n"
      ]
    },
    {
      "cell_type": "code",
      "metadata": {
        "id": "QWMsO93114Vw",
        "colab_type": "code",
        "colab": {}
      },
      "source": [
        "# Import numpy, as we will need it to work with matrices\n",
        "import numpy as np"
      ],
      "execution_count": 0,
      "outputs": []
    },
    {
      "cell_type": "code",
      "metadata": {
        "id": "z77qADd43DRR",
        "colab_type": "code",
        "colab": {}
      },
      "source": [
        "# List of matrix arrays:\n",
        "matrix_list = []\n",
        "\n",
        "# The following test matrices should not trigger an exception.\n",
        "matrix_list.append(np.arange(12).reshape(3,4))\n",
        "matrix_list.append(np.arange(12).reshape(4,3))\n",
        "matrix_list.append(np.array(([[5,98,12,87],[7,2,6,7],[7,5,2,513]])))\n",
        "matrix_list.append(np.arange(8).reshape(2,4))\n",
        "matrix_list.append(np.arange(16).reshape(4,4))\n",
        "\n",
        "# Uncommenting this test matrix WILL cause an exception (for testing purposes)\n",
        "matrix_list.append(np.arange(6).reshape(2,3))"
      ],
      "execution_count": 0,
      "outputs": []
    },
    {
      "cell_type": "code",
      "metadata": {
        "id": "l-2LaAUC37Ve",
        "colab_type": "code",
        "colab": {}
      },
      "source": [
        "# Evaluates whether the matrices can be multiplied in the first place...\n",
        "def evaluate_pair(matrix_a, matrix_b):\n",
        "\n",
        "  # Multiply matrices using built-in numpy.matmul() function\n",
        "  if matrix_a.shape[1] == matrix_b.shape[0]:\n",
        "    return np.matmul(matrix_a, matrix_b)\n",
        "\n",
        "  else:\n",
        "    raise Exception(\"\\nThe matrices \\n\" + str(matrix_a) + \"\\n and \\n\" + str(matrix_b) + \"\\n are NOT compatible!\")\n"
      ],
      "execution_count": 0,
      "outputs": []
    },
    {
      "cell_type": "code",
      "metadata": {
        "id": "8Ag1aTFOwyip",
        "colab_type": "code",
        "colab": {}
      },
      "source": [
        "# Iterates through a given list of matrices.\n",
        "# Calls evaluate_pair() on every combination (i, i + 1)\n",
        "def multiply_matrices(list):\n",
        "  for i in range(len(list) - 1):\n",
        "    # If we are past the first two matrices in the list, use the last result\n",
        "    # as one of the matrices being multiplied\n",
        "    if i > 0: \n",
        "      resultant = evaluate_pair(resultant, list[i - 1])\n",
        "    # Otherwise, get a first result to start off with.\n",
        "    else:\n",
        "      resultant = evaluate_pair(list[i], list[i + 1])\n",
        "  \n",
        "  # If we have reached this point, we can return the final result of multiplying\n",
        "  # all matrices in the list.\n",
        "  return resultant\n"
      ],
      "execution_count": 0,
      "outputs": []
    },
    {
      "cell_type": "code",
      "metadata": {
        "id": "TmJhFeSh5sua",
        "colab_type": "code",
        "outputId": "3b5d8094-7ea3-48aa-b89b-87dda18eece9",
        "colab": {
          "base_uri": "https://localhost:8080/",
          "height": 527
        }
      },
      "source": [
        "# Call multiply_matrices on the list created earlier...\n",
        "print(\"Evaluating matrices...\\n\")\n",
        "result = multiply_matrices(matrix_list)\n",
        "\n",
        "print(\"Result of multiplying all matrices in list:\\n\" + str(result))"
      ],
      "execution_count": 144,
      "outputs": [
        {
          "output_type": "stream",
          "text": [
            "Evaluating matrices...\n",
            "\n"
          ],
          "name": "stdout"
        },
        {
          "output_type": "error",
          "ename": "Exception",
          "evalue": "ignored",
          "traceback": [
            "\u001b[0;31m---------------------------------------------------------------------------\u001b[0m",
            "\u001b[0;31mException\u001b[0m                                 Traceback (most recent call last)",
            "\u001b[0;32m<ipython-input-144-eeb3e6eebaca>\u001b[0m in \u001b[0;36m<module>\u001b[0;34m()\u001b[0m\n\u001b[1;32m      1\u001b[0m \u001b[0mprint\u001b[0m\u001b[0;34m(\u001b[0m\u001b[0;34m\"Evaluating matrices...\\n\"\u001b[0m\u001b[0;34m)\u001b[0m\u001b[0;34m\u001b[0m\u001b[0;34m\u001b[0m\u001b[0m\n\u001b[0;32m----> 2\u001b[0;31m \u001b[0mresult\u001b[0m \u001b[0;34m=\u001b[0m \u001b[0mmultiply_matrices\u001b[0m\u001b[0;34m(\u001b[0m\u001b[0mmatrix_list\u001b[0m\u001b[0;34m)\u001b[0m\u001b[0;34m\u001b[0m\u001b[0;34m\u001b[0m\u001b[0m\n\u001b[0m\u001b[1;32m      3\u001b[0m \u001b[0;34m\u001b[0m\u001b[0m\n\u001b[1;32m      4\u001b[0m \u001b[0mprint\u001b[0m\u001b[0;34m(\u001b[0m\u001b[0;34m\"Result of multiplying all matrices in list:\\n\"\u001b[0m \u001b[0;34m+\u001b[0m \u001b[0mstr\u001b[0m\u001b[0;34m(\u001b[0m\u001b[0mresult\u001b[0m\u001b[0;34m)\u001b[0m\u001b[0;34m)\u001b[0m\u001b[0;34m\u001b[0m\u001b[0;34m\u001b[0m\u001b[0m\n",
            "\u001b[0;32m<ipython-input-143-b37616da4548>\u001b[0m in \u001b[0;36mmultiply_matrices\u001b[0;34m(list)\u001b[0m\n\u001b[1;32m      4\u001b[0m     \u001b[0;31m# as one of the matrices being multiplied\u001b[0m\u001b[0;34m\u001b[0m\u001b[0;34m\u001b[0m\u001b[0;34m\u001b[0m\u001b[0m\n\u001b[1;32m      5\u001b[0m     \u001b[0;32mif\u001b[0m \u001b[0mi\u001b[0m \u001b[0;34m>\u001b[0m \u001b[0;36m0\u001b[0m\u001b[0;34m:\u001b[0m\u001b[0;34m\u001b[0m\u001b[0;34m\u001b[0m\u001b[0m\n\u001b[0;32m----> 6\u001b[0;31m       \u001b[0mresultant\u001b[0m \u001b[0;34m=\u001b[0m \u001b[0mevaluate_pair\u001b[0m\u001b[0;34m(\u001b[0m\u001b[0mresultant\u001b[0m\u001b[0;34m,\u001b[0m \u001b[0mlist\u001b[0m\u001b[0;34m[\u001b[0m\u001b[0mi\u001b[0m \u001b[0;34m-\u001b[0m \u001b[0;36m1\u001b[0m\u001b[0;34m]\u001b[0m\u001b[0;34m)\u001b[0m\u001b[0;34m\u001b[0m\u001b[0;34m\u001b[0m\u001b[0m\n\u001b[0m\u001b[1;32m      7\u001b[0m     \u001b[0;31m# Otherwise, get a first result to start off with.\u001b[0m\u001b[0;34m\u001b[0m\u001b[0;34m\u001b[0m\u001b[0;34m\u001b[0m\u001b[0m\n\u001b[1;32m      8\u001b[0m     \u001b[0;32melse\u001b[0m\u001b[0;34m:\u001b[0m\u001b[0;34m\u001b[0m\u001b[0;34m\u001b[0m\u001b[0m\n",
            "\u001b[0;32m<ipython-input-142-005590599ed1>\u001b[0m in \u001b[0;36mevaluate_pair\u001b[0;34m(matrix_a, matrix_b)\u001b[0m\n\u001b[1;32m      6\u001b[0m \u001b[0;34m\u001b[0m\u001b[0m\n\u001b[1;32m      7\u001b[0m   \u001b[0;32melse\u001b[0m\u001b[0;34m:\u001b[0m\u001b[0;34m\u001b[0m\u001b[0;34m\u001b[0m\u001b[0m\n\u001b[0;32m----> 8\u001b[0;31m     \u001b[0;32mraise\u001b[0m \u001b[0mException\u001b[0m\u001b[0;34m(\u001b[0m\u001b[0;34m\"\\nThe matrices \\n\"\u001b[0m \u001b[0;34m+\u001b[0m \u001b[0mstr\u001b[0m\u001b[0;34m(\u001b[0m\u001b[0mmatrix_a\u001b[0m\u001b[0;34m)\u001b[0m \u001b[0;34m+\u001b[0m \u001b[0;34m\"\\n and \\n\"\u001b[0m \u001b[0;34m+\u001b[0m \u001b[0mstr\u001b[0m\u001b[0;34m(\u001b[0m\u001b[0mmatrix_b\u001b[0m\u001b[0;34m)\u001b[0m \u001b[0;34m+\u001b[0m \u001b[0;34m\"\\n are NOT compatible!\"\u001b[0m\u001b[0;34m)\u001b[0m\u001b[0;34m\u001b[0m\u001b[0;34m\u001b[0m\u001b[0m\n\u001b[0m",
            "\u001b[0;31mException\u001b[0m: \nThe matrices \n[[  398880  1854720   379200 13959840]\n [ 1147200  5332560  1090400 40155200]\n [ 1895520  8810400  1801600 66350560]]\n and \n[[0 1 2 3]\n [4 5 6 7]]\n are NOT compatible!"
          ]
        }
      ]
    }
  ]
}