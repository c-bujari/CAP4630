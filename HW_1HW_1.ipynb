{
  "nbformat": 4,
  "nbformat_minor": 0,
  "metadata": {
    "colab": {
      "name": "HW_1.ipynb",
      "provenance": [],
      "collapsed_sections": [],
      "authorship_tag": "ABX9TyMoTgTvPdSzJ1qdE2Ok12Aa",
      "include_colab_link": true
    },
    "kernelspec": {
      "name": "python3",
      "display_name": "Python 3"
    }
  },
  "cells": [
    {
      "cell_type": "markdown",
      "metadata": {
        "id": "view-in-github",
        "colab_type": "text"
      },
      "source": [
        "<a href=\"https://colab.research.google.com/github/c-bujari/CAP4630/blob/master/HW_1HW_1.ipynb\" target=\"_parent\"><img src=\"https://colab.research.google.com/assets/colab-badge.svg\" alt=\"Open In Colab\"/></a>"
      ]
    },
    {
      "cell_type": "markdown",
      "metadata": {
        "id": "bH6E3DLSawxX",
        "colab_type": "text"
      },
      "source": [
        "# Homework Assignment 1\n",
        "### CAP 4630 Artificial Intelligience\n"
      ]
    },
    {
      "cell_type": "markdown",
      "metadata": {
        "colab_type": "text",
        "id": "jGo8a-uuHjSa"
      },
      "source": [
        "## Problem 2\n",
        "If $A$ an $m \\times n$ matrix and $B$ is an $n \\times p$ matrix such that\n",
        "\n",
        "$\\begin{equation*}\n",
        "  A_{m,n} =\n",
        "    \\begin{bmatrix}\n",
        "      a_{1,1} & a_{1,2} & \\dots & a_{1,n} \\\\\n",
        "      a_{2,1} & a_{2,2} & \\dots & a_{2,n} \\\\\n",
        "      \\vdots & \\vdots & \\ddots & \\vdots \\\\\n",
        "      a_{m,1} & a_{m,2} & \\dots & a_{m,n}\n",
        "    \\end{bmatrix}\n",
        "\\end{equation*}$ and $\\begin{equation*}\n",
        "  B_{n,p} =\n",
        "    \\begin{bmatrix}\n",
        "      b_{1,1} & b_{1,2} & \\dots & b_{1,p} \\\\\n",
        "      b_{2,1} & b_{2,2} & \\dots & b_{2,p} \\\\\n",
        "      \\vdots & \\vdots & \\ddots & \\vdots \\\\\n",
        "      b_{n,1} & b_{n,2} & \\dots & b_{n,p}\n",
        "    \\end{bmatrix}\n",
        "\\end{equation*}$\n",
        "\n",
        "the product $C$ = $A \\times B$ of these two matrices is the $m \\times p$ matrix:\n",
        "\n",
        "$\\begin{equation*}\n",
        "  C_{m,p} =\n",
        "    \\begin{bmatrix}\n",
        "      c_{1,1} & c_{1,2} & \\dots & c_{1,p} \\\\\n",
        "      c_{2,1} & c_{2,2} & \\dots & c_{2,p} \\\\\n",
        "      \\vdots & \\vdots & \\ddots & \\vdots \\\\\n",
        "      c_{m,1} & c_{m,2} & \\dots & c_{m,p}\n",
        "    \\end{bmatrix}\n",
        "\\end{equation*}$\n",
        "\n",
        "A pair of matrices which does not follow these guidelines (for example, if $D$ = $m \\times n$ and $E$ = $p \\times q$, where $n \\neq p$) cannot be multiplied. For the purposes of this assignment, such a pair is considered ***incompatible***.\n",
        "\n",
        "      \n"
      ]
    },
    {
      "cell_type": "code",
      "metadata": {
        "id": "QWMsO93114Vw",
        "colab_type": "code",
        "colab": {}
      },
      "source": [
        "# Import numpy, as we will need it to work with matrices\n",
        "import numpy as np"
      ],
      "execution_count": 0,
      "outputs": []
    },
    {
      "cell_type": "code",
      "metadata": {
        "id": "z77qADd43DRR",
        "colab_type": "code",
        "colab": {}
      },
      "source": [
        "# List of matrix arrays:\n",
        "matrix_list = []\n",
        "\n",
        "# Adding some test matrices to the list\n",
        "matrix_list.append(np.arange(12).reshape(3,4))\n",
        "matrix_list.append(np.arange(12).reshape(4,3))\n",
        "matrix_list.append(np.array(([[5,98,12,87],[7,2,6,7],[7,5,2,513]])))\n",
        "\n",
        "# This test matrix WILL cause an exception (on purpose)\n",
        "matrix_list.append(np.arange(6).reshape(2,3))"
      ],
      "execution_count": 0,
      "outputs": []
    },
    {
      "cell_type": "code",
      "metadata": {
        "id": "l-2LaAUC37Ve",
        "colab_type": "code",
        "colab": {}
      },
      "source": [
        "# Evaluates whether the matrices can be multiplied in the first place...\n",
        "def evaluate_pair(matrix_a, matrix_b):\n",
        "\n",
        "  # Multiply matrices using built-in numpy.matmul() function\n",
        "  if matrix_a.shape[1] == matrix_b.shape[0]:\n",
        "    result_matrix = np.matmul(matrix_a, matrix_b)\n",
        "    print(\"Result Matrix:\\n\" + str(result_matrix) + \"\\n\")\n",
        "\n",
        "  else:\n",
        "    raise Exception(\"\\nThe matrices \\n\" + str(matrix_a) + \"\\n and \\n\" + str(matrix_b) + \"\\n are NOT compatible!\")\n"
      ],
      "execution_count": 0,
      "outputs": []
    },
    {
      "cell_type": "code",
      "metadata": {
        "id": "8Ag1aTFOwyip",
        "colab_type": "code",
        "colab": {}
      },
      "source": [
        "# Iterates through a given list of matrices.\n",
        "# Calls evaluate_pair() on every combination (i, i + 1)\n",
        "def multiply_matrices(list):\n",
        "  for i in range(len(list) - 1):\n",
        "    print(\"Pair \" + str(i) + \":\")\n",
        "    evaluate_pair(list[i], list[i + 1])"
      ],
      "execution_count": 0,
      "outputs": []
    },
    {
      "cell_type": "code",
      "metadata": {
        "id": "TmJhFeSh5sua",
        "colab_type": "code",
        "colab": {}
      },
      "source": [
        "# Call multiply_matrices on the list created earlier...\n",
        "print(\"Evaluating matrices...\\n\")\n",
        "multiply_matrices(matrix_list)"
      ],
      "execution_count": 0,
      "outputs": []
    }
  ]
}