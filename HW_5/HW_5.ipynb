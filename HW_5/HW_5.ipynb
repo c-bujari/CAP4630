{
  "nbformat": 4,
  "nbformat_minor": 0,
  "metadata": {
    "colab": {
      "name": "HW_5.ipynb",
      "provenance": [],
      "collapsed_sections": [],
      "authorship_tag": "ABX9TyPI4Zs2Iqf1hHAo+q97sUCS",
      "include_colab_link": true
    },
    "kernelspec": {
      "name": "python3",
      "display_name": "Python 3"
    }
  },
  "cells": [
    {
      "cell_type": "markdown",
      "metadata": {
        "id": "view-in-github",
        "colab_type": "text"
      },
      "source": [
        "<a href=\"https://colab.research.google.com/github/c-bujari/CAP4630/blob/master/HW_5/HW_5.ipynb\" target=\"_parent\"><img src=\"https://colab.research.google.com/assets/colab-badge.svg\" alt=\"Open In Colab\"/></a>"
      ]
    },
    {
      "cell_type": "markdown",
      "metadata": {
        "id": "30zHFsaCN0p7",
        "colab_type": "text"
      },
      "source": [
        "# Homework 5\n",
        "###CAP 4630 Artificial Intelligience\n",
        "####Clyde Bujari"
      ]
    },
    {
      "cell_type": "markdown",
      "metadata": {
        "id": "KqH-DACEN3IK",
        "colab_type": "text"
      },
      "source": [
        "## 1. General Concepts\n",
        "\n",
        "**Artificial Intelligience** is a concept that has had many definitions by many different people over the years - but the most accurate one is John McCarthy's definition of it as \"the science and engineering of making intelligient machines\". \n",
        "\n",
        "In other words, the study of AI is the study of designing computer systems which can perform tasks such as visual perception, speech recognition, decision making, etc.; tasks which are virtually impossible to emulate with traditional computer programming, but that human intelligience is naturally good at.\n",
        "\n",
        "**Machine Learning** is a subset of AI. Arthur Samuel defined it as a \"field of study that gives computers the ability to learn without being explicitely programmed\". The goal of ML is to create programs, more specifically, which adjust their output in response to a given set of input data, much like humans learn from birth. These programs are more flexible than those created by human programmers, able to change themselves based on data and thus create much more feasible solutions to problems AI seeks to solve.\n",
        "\n",
        "**Deep Learning** is a subset of ML that specifically uses algorithms broken into  multiple layers (hence the term \"deep\"). By breaking up an algorithm into these layers, each layer can handle a different part of the process - for example, in image processing a lower layer may handle edge identification, and a higher layer may identify which of these edges correspond to a face or a digit."
      ]
    },
    {
      "cell_type": "markdown",
      "metadata": {
        "id": "CDjj0gKsOABH",
        "colab_type": "text"
      },
      "source": [
        "## 2. Basic Concepts\n",
        "\n",
        "**Linear regression** is a statistical tool used to model the relationship between a dependent variable and one or more independent variables.\n",
        "\n",
        "**Logistic regression**, is a statistical tool that is used to model the probability of a certain class/event being valid - pass/fail, win/lose, etc. This can also be extended to more than just two binary classes, such as to determine what animal an image contains (assigning each possible class a probability between 0 and 1).\n",
        "\n",
        "The **gradient** of a multivariate function is a vector field for which the components of a vector at a given point are the partial derivatives of function f. It is the multivariate equivalent to a \"derivative\"; the gradient vector's direction = the direction of fastest increase of f, and the gradient vector's magnitude = the rate of increase in that direction.\n",
        "\n",
        "**Gradient descent** (also known as *steepest descent*) is an iterative algorithm for finding a local minimum of any differentiable function. In each iteration, it updates the value of this minimum by decreasing by a step size, where the step = the gradient at the current point * a scalar learning rate."
      ]
    },
    {
      "cell_type": "markdown",
      "metadata": {
        "id": "N0ioUn6eIxSV",
        "colab_type": "text"
      },
      "source": [
        "## 3. Building a model"
      ]
    },
    {
      "cell_type": "markdown",
      "metadata": {
        "id": "GG2GpWzZOD-J",
        "colab_type": "text"
      },
      "source": [
        "## 4. Compiling a model"
      ]
    },
    {
      "cell_type": "markdown",
      "metadata": {
        "id": "V--8CHwYOEUr",
        "colab_type": "text"
      },
      "source": [
        "## 5. Training a model"
      ]
    },
    {
      "cell_type": "markdown",
      "metadata": {
        "id": "9nBkwilmOElg",
        "colab_type": "text"
      },
      "source": [
        "## 6. Finetuning a pretrained model"
      ]
    },
    {
      "cell_type": "code",
      "metadata": {
        "id": "tFuFncoONuHP",
        "colab_type": "code",
        "colab": {}
      },
      "source": [
        ""
      ],
      "execution_count": 0,
      "outputs": []
    }
  ]
}